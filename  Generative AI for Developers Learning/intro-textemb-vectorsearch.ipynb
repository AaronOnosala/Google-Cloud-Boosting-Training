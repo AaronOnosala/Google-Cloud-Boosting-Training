{
 "cells": [
  {
   "cell_type": "code",
   "execution_count": null,
   "metadata": {
    "id": "c3_K0GGSTrhd"
   },
   "outputs": [],
   "source": [
    "# Copyright 2023 Google LLC\n",
    "#\n",
    "# Licensed under the Apache License, Version 2.0 (the \"License\");\n",
    "# you may not use this file except in compliance with the License.\n",
    "# You may obtain a copy of the License at\n",
    "#\n",
    "#     https://www.apache.org/licenses/LICENSE-2.0\n",
    "#\n",
    "# Unless required by applicable law or agreed to in writing, software\n",
    "# distributed under the License is distributed on an \"AS IS\" BASIS,\n",
    "# WITHOUT WARRANTIES OR CONDITIONS OF ANY KIND, either express or implied.\n",
    "# See the License for the specific language governing permissions and\n",
    "# limitations under the License."
   ]
  },
  {
   "cell_type": "markdown",
   "metadata": {
    "id": "7VQkf8sFTeDo"
   },
   "source": [
    "# Getting Started with Text Embeddings + Vertex AI Vector Search\n",
    "\n",
    "\n",
    "<table align=\"left\">\n",
    "  <td style=\"text-align: center\">\n",
    "    <a href=\"https://colab.research.google.com/github/GoogleCloudPlatform/generative-ai/blob/main/embeddings/intro-textemb-vectorsearch.ipynb\">\n",
    "      <img src=\"https://cloud.google.com/ml-engine/images/colab-logo-32px.png\" alt=\"Google Colaboratory logo\"><br> Run in Colab\n",
    "    </a>\n",
    "  </td>\n",
    "  <td style=\"text-align: center\">\n",
    "    <a href=\"https://github.com/GoogleCloudPlatform/generative-ai/blob/main/embeddings/intro-textemb-vectorsearch.ipynb\">\n",
    "      <img src=\"https://cloud.google.com/ml-engine/images/github-logo-32px.png\" alt=\"GitHub logo\"><br> View on GitHub\n",
    "    </a>\n",
    "  </td>\n",
    "  <td style=\"text-align: center\">\n",
    "    <a href=\"https://console.cloud.google.com/vertex-ai/workbench/deploy-notebook?download_url=https://raw.githubusercontent.com/GoogleCloudPlatform/generative-ai/main/embeddings/intro-textemb-vectorsearch.ipynb\">\n",
    "      <img src=\"https://lh3.googleusercontent.com/UiNooY4LUgW_oTvpsNhPpQzsstV5W8F7rYgxgGBD85cWJoLmrOzhVs_ksK_vgx40SHs7jCqkTkCk=e14-rj-sc0xffffff-h130-w32\" alt=\"Vertex AI logo\"><br> Open in Vertex AI Workbench\n",
    "    </a>\n",
    "  </td>\n",
    "</table>"
   ]
  },
  {
   "cell_type": "markdown",
   "metadata": {
    "id": "4d742715e6de"
   },
   "source": [
    "| | |\n",
    "|-|-|\n",
    "|Author(s) | [Smitha Venkat](https://github.com/smitha-google), [Kaz Sato](https://github.com/kazunori279)|"
   ]
  },
  {
   "cell_type": "markdown",
   "metadata": {
    "id": "25a71983a324"
   },
   "source": [
    "## Introduction\n",
    "\n",
    "In this tutorial, you learn how to use Google Cloud AI tools to quickly bring the power of Large Language Models to enterprise systems.  \n",
    "\n",
    "This tutorial covers the following -\n",
    "\n",
    "*   What are embeddings - what business challenges do they help solve ?\n",
    "*   Understanding Text with Vertex AI Text Embeddings\n",
    "*   Find Embeddings fast with Vertex AI Vector Search\n",
    "*   Grounding LLM outputs with Vector Search\n",
    "\n",
    "This tutorial is based on [the blog post](https://cloud.google.com/blog/products/ai-machine-learning/how-to-use-grounding-for-your-llms-with-text-embeddings), combined with sample code.\n",
    "\n",
    "\n",
    "### Prerequisites\n",
    "\n",
    "This tutorial is designed for developers who has basic knowledge and experience with Python programming and machine learning.\n",
    "\n",
    "If you are not reading this tutorial in Qwiklab, then you need to have a Google Cloud project that is linked to a billing account to run this. Please go through [this document](https://cloud.google.com/vertex-ai/docs/start/cloud-environment) to create a project and setup a billing account for it.\n",
    "\n",
    "### Choose the runtime environment\n",
    "\n",
    "The notebook can be run on either Google Colab or [Vertex AI Workbench](https://cloud.google.com/vertex-ai-workbench).\n",
    "\n",
    "- To use Colab: Click [this link](https://colab.research.google.com/github/GoogleCloudPlatform/generative-ai/blob/main/embeddings/intro-textemb-vectorsearch.ipynb) to open the tutorial in Colab.\n",
    "\n",
    "- To use Workbench: If it is the first time to use Workbench in your Google Cloud project, open [the Workbench console](https://console.cloud.google.com/vertex-ai/workbench) and click ENABLE button to enable Notebooks API. Then click [this link](https://console.cloud.google.com/vertex-ai/workbench/deploy-notebook?download_url=https://raw.githubusercontent.com/GoogleCloudPlatform/generative-ai/main/embeddings/intro-textemb-vectorsearch.ipynb),  and select an existing notebook or create a new notebook.\n"
   ]
  },
  {
   "cell_type": "markdown",
   "metadata": {
    "id": "2pImjuenUIQz"
   },
   "source": [
    "### How much will this cost?\n",
    "\n",
    "In case you are using your own Cloud project, not a temporary project on Qwiklab, you need to spend roughly a few US dollars to finish this tutorial.\n",
    "\n",
    "The pricing of the Cloud services we will use in this tutorial are available in the following pages:\n",
    "\n",
    "- [Vertex AI Embeddings for Text](https://cloud.google.com/vertex-ai/pricing#generative_ai_models)\n",
    "- [Vertex AI Vector Search](https://cloud.google.com/vertex-ai/pricing#matchingengine)\n",
    "- [BigQuery](https://cloud.google.com/bigquery/pricing)\n",
    "- [Cloud Storage](https://cloud.google.com/storage/pricing)\n",
    "- [Vertex AI Workbench](https://cloud.google.com/vertex-ai/pricing#notebooks) if you use one\n",
    "\n",
    "You can use the [Pricing Calculator](https://cloud.google.com/products/calculator) to generate a cost estimate based on your projected usage. The following is an example of rough cost estimation with the calculator, assuming you will go through this tutorial a couple of time.\n",
    "\n",
    "<img src=\"https://storage.googleapis.com/github-repo/img/embeddings/vs-quickstart/pricing.png\" width=\"50%\"/>\n",
    "\n",
    "### **Warning: delete your objects after the tutorial**\n",
    "\n",
    "In case you are using your own Cloud project, please make sure to delete all the Indexes, Index Endpoints and Cloud Storage buckets (and the Workbench instance if you use one) after finishing this tutorial. Otherwise the remaining assets would incur unexpected costs.\n"
   ]
  },
  {
   "cell_type": "markdown",
   "metadata": {
    "id": "6Fu2OoUDTQ6w"
   },
   "source": [
    "# Bringing Gen AI and LLMs to production services\n",
    "\n",
    "Many people are now starting to think about how to bring Gen AI and LLMs to production services, and facing with several challenges.\n",
    "\n",
    "- \"How to integrate LLMs or AI chatbots with existing IT systems, databases and business data?\"\n",
    "- \"We have thousands of products. How can I let LLM memorize them all precisely?\"\n",
    "- \"How to handle the hallucination issues in AI chatbots to build a reliable service?\"\n",
    "\n",
    "Here is a quick solution: **grounding** with **embeddings** and **vector search**.\n",
    "\n",
    "What is grounding? What are embedding and vector search? In this tutorial, we will learn these crucial concepts to build reliable Gen AI services for enterprise use. But before we dive deeper, let's try the demo below."
   ]
  },
  {
   "cell_type": "markdown",
   "metadata": {
    "id": "ORqZYLgTm9pJ"
   },
   "source": [
    "![](https://storage.googleapis.com/gweb-cloudblog-publish/original_images/1._demo_animation.gif)\n",
    "\n",
    "**Exercise: Try the Stack Overflow semantic search demo:**\n",
    "\n",
    "This demo is available as a [public live demo](https://ai-demos.dev/). Select \"STACKOVERFLOW\" and enter any coding question as a query, so it runs a text search on **8 million** questions posted on [Stack Overflow](https://stackoverflow.com/). Try the text semantic search with some queries like 'How to shuffle rows in SQL?' or arbitrary programming questions.\n",
    "\n",
    "In this tutorial, we are going to see how to build a similar search experience - what is involved in building solutions like this using Vertex AI Embeddings API and Vector Search."
   ]
  },
  {
   "cell_type": "markdown",
   "metadata": {
    "id": "H1MAIOkCw35V"
   },
   "source": [
    "# What is Embeddings?\n",
    "\n",
    "With the rise of LLMs, why is it becoming important for IT engineers and ITDMs to understand how they work?\n",
    "\n",
    "In traditional IT systems, most data is organized as structured or tabular data, using simple keywords, labels, and categories in databases and search engines.\n",
    "\n",
    "![](https://storage.googleapis.com/github-repo/img/embeddings/textemb-vs-notebook/1.png)\n",
    "\n",
    "In contrast, AI-powered services arrange data into a simple data structure known as \"embeddings.\"\n",
    "\n",
    "![](https://storage.googleapis.com/github-repo/img/embeddings/textemb-vs-notebook/2.png)"
   ]
  },
  {
   "cell_type": "markdown",
   "metadata": {
    "id": "hJqjBmQsxz2Z"
   },
   "source": [
    "Once trained with specific content like text, images, or any content, AI creates a space called \"embedding space\", which is essentially a map of the content's meaning.\n",
    "\n",
    "![](https://storage.googleapis.com/github-repo/img/embeddings/textemb-vs-notebook/3.png)\n",
    "\n",
    "AI can identify the location of each content on the map, that's what embedding is.\n",
    "\n",
    "![](https://storage.googleapis.com/github-repo/img/embeddings/textemb-vs-notebook/4.png)\n",
    "\n",
    "Let's take an example where a text discusses movies, music, and actors, with a distribution of 10%, 2%, and 30%, respectively. In this case, the AI can create an embedding with three values: 0.1, 0.02, and 0.3, in 3 dimensional space.\n",
    "\n",
    "![](https://storage.googleapis.com/github-repo/img/embeddings/textemb-vs-notebook/5.png)\n",
    "\n",
    "AI can put content with similar meanings closely together in the space."
   ]
  },
  {
   "cell_type": "markdown",
   "metadata": {
    "id": "A5z7vyTyzk_4"
   },
   "source": [
    "This is how Google organizes data across various services like Google Search, YouTube, Play, and many others, to provide search results and recommendations with relevant content.\n",
    "\n",
    "Embeddings can also be used to represent different types of things in businesses, such as products, users, user activities, conversations, music & videos, signals from IoT sensors, and so on."
   ]
  },
  {
   "cell_type": "markdown",
   "metadata": {
    "id": "tpKVmyEe0ab9"
   },
   "source": [
    "AI and Embeddings are now playing a crucial role in creating a new way of human-computer interaction.\n",
    "\n",
    "![](https://storage.googleapis.com/github-repo/img/embeddings/textemb-vs-notebook/6.png)\n",
    "\n",
    "AI organizes data into embeddings, which represent what the user is looking for, the meaning of contents, or many other things you have in your business. This creates a new level of user experience that is becoming the new standard.\n",
    "\n",
    "To learn more about embeddings, [Foundational courses: Embeddings on Google Machine Learning Crush Course](https://developers.google.com/machine-learning/crash-course/embeddings/video-lecture) and [Meet AI's multitool: Vector embeddings by Dale Markowitz](https://cloud.google.com/blog/topics/developers-practitioners/meet-ais-multitool-vector-embeddings) are great materials.\n"
   ]
  },
  {
   "cell_type": "markdown",
   "metadata": {
    "id": "ovQpiL2GUEXa"
   },
   "source": [
    "# Vertex AI Embeddings for Text\n",
    "\n",
    "With the [Vertex AI Embeddings for Text](https://cloud.google.com/vertex-ai/docs/generative-ai/embeddings/get-text-embeddings), you can easily create a text embedding with LLM. The product is also available on [Vertex AI Model Garden](https://cloud.google.com/model-garden)\n",
    "\n",
    "![](https://storage.googleapis.com/github-repo/img/embeddings/textemb-vs-notebook/7.png)\n",
    "\n",
    "This API is designed to extract embeddings from texts. It can take text input up to 2048 input tokens, and outputs 768 dimensional text embeddings."
   ]
  },
  {
   "cell_type": "markdown",
   "metadata": {
    "id": "nwJHDPG7lU52"
   },
   "source": [
    "## LLM text embedding business use cases\n",
    "\n",
    "With the embedding API, you can apply the innovation of embeddings, combined with the LLM capability, to various text processing tasks, such as:\n",
    "\n",
    "**LLM-enabled Semantic Search**: text embeddings can be used to represent both the meaning and intent of a user's query and documents in the embedding space. Documents that have similar meaning to the user's query intent will be found fast with vector search technology. The model is capable of generating text embeddings that capture the subtle nuances of each sentence and paragraphs in the document.\n",
    "\n",
    "**LLM-enabled Text Classification**: LLM text embeddings can be used for text classification with a deep understanding of different contexts without any training or fine-tuning (so-called zero-shot learning). This wasn't possible with the past language models without task-specific training.\n",
    "\n",
    "**LLM-enabled Recommendation**: The text embedding can be used for recommendation systems as a strong feature for training recommendation models such as Two-Tower model. The model learns the relationship between the query and candidate embeddings, resulting in next-gen user experience with semantic product recommendation.\n",
    "\n",
    "LLM-enabled Clustering, Anomaly Detection, Sentiment Analysis, and more, can be also handled with the LLM-level deep semantics understanding.\n"
   ]
  },
  {
   "cell_type": "markdown",
   "metadata": {
    "id": "ga5A7koYlvlZ"
   },
   "source": [
    "## Sorting 8 million texts at \"librarian-level\" precision\n",
    "\n",
    "Vertex AI Embeddings for Text has an embedding space with 768 dimensions. As explained earlier, the space represents a huge map of a wide variety of texts in the world, organized by their meanings. With each input text, the model can find a location (embedding) in the map.\n",
    "\n",
    "By visualizing the embedding space, you can actually observe how the model sorts the texts at the \"librarian-level\" precision.\n",
    "\n",
    "**Exercise: Try the Nomic AI Atlas**\n",
    "\n",
    "[Nomic AI](http://nomic.ai/) provides a platform called Atlas for storing, visualizing and interacting with embedding spaces with high scalability and in a smooth UI, and they worked with Google for visualizing the embedding space of the 8 million Stack Overflow questions. You can try exploring around the space, zooming in and out to each data point on your browser on this page, courtesy of Nomic AI.\n",
    "\n",
    "The embedding space represents a huge map of texts, organized by their meanings\n",
    "With each input text, the model can find a location (embedding) in the map\n",
    "Like a librarian reading through millions of texts, sorting them with millions of nano-categories\n",
    "\n",
    "Try exploring it [here](https://atlas.nomic.ai/map/edaff028-12b5-42a0-8e8b-6430c9b8222b/bcb42818-3581-4fb5-ac30-9883d01f98ec). Zoom into a few categories, point each dots, and see how the LLM is sorting similar questions close together in the space.\n",
    "\n",
    "![](https://storage.googleapis.com/gweb-cloudblog-publish/images/4._Nomic_AI_Atlas.max-2200x2200.png)\n",
    "\n",
    "### The librarian-level semantic understanding\n",
    "\n",
    "Here are the examples of the librarian-level semantic understanding by Embeddings API with Stack Overflow questions.\n",
    "\n",
    "![](https://storage.googleapis.com/gweb-cloudblog-publish/images/5._semantic_understanding.max-2200x2200.png)\n",
    "\n",
    "For example, the model thinks the question \"Does moving the request line to a header frame require an app change?\" is similar to the question \"Does an application developed on HTTP1x require modifications to run on HTTP2?\". That is because The model knows both questions talk about what's the change required to support the HTTP2 header frame.\n",
    "\n",
    "Note that this demo didn't require any training or fine-tuning with computer programming specific datasets. This is the innovative part of the zero-shot learning capability of the LLM. It can be applied to a wide variety of industries, including finance, healthcare, retail, manufacturing, construction, media, and more, for deep semantic search on the industry-focused business documents without spending time and cost for collecting industry specific datasets and training models."
   ]
  },
  {
   "cell_type": "markdown",
   "metadata": {
    "id": "-iOWOKnIvYxf"
   },
   "source": [
    "# Text Embeddings in Action\n",
    "\n",
    "Lets try using Text Embeddings in action with actual sample code."
   ]
  },
  {
   "cell_type": "markdown",
   "metadata": {
    "id": "AtXnXhF8U-8R"
   },
   "source": [
    "## Setup\n",
    "\n",
    "Before get started with the Vertex AI services, we need to setup the following.\n",
    "\n",
    "* Install Python SDK\n",
    "* Environment variables\n",
    "* Authentication (Colab only)\n",
    "* Enable APIs\n",
    "* Set IAM permissions"
   ]
  },
  {
   "cell_type": "markdown",
   "metadata": {
    "id": "UjnvWl6FLUlF"
   },
   "source": [
    "### Install Python SDK\n",
    "\n",
    "Vertex AI, Cloud Storage and BigQuery APIs can be accessed with multiple ways including REST API and Python SDK. In this tutorial we will use the SDK."
   ]
  },
  {
   "cell_type": "code",
   "execution_count": 1,
   "metadata": {
    "id": "FZgLGALt_al7",
    "tags": []
   },
   "outputs": [
    {
     "name": "stdout",
     "output_type": "stream",
     "text": [
      "Requirement already satisfied: google-cloud-aiplatform in /opt/conda/lib/python3.10/site-packages (1.60.0)\n",
      "Collecting google-cloud-aiplatform\n",
      "  Downloading google_cloud_aiplatform-1.67.1-py2.py3-none-any.whl (5.2 MB)\n",
      "\u001b[K     |████████████████████████████████| 5.2 MB 1.6 MB/s eta 0:00:01\n",
      "\u001b[?25hRequirement already satisfied: google-cloud-storage in /opt/conda/lib/python3.10/site-packages (2.14.0)\n",
      "Collecting google-cloud-storage\n",
      "  Downloading google_cloud_storage-2.18.2-py2.py3-none-any.whl (130 kB)\n",
      "\u001b[K     |████████████████████████████████| 130 kB 69.2 MB/s eta 0:00:01\n",
      "\u001b[?25hRequirement already satisfied: google-cloud-bigquery[pandas] in /opt/conda/lib/python3.10/site-packages (3.25.0)\n",
      "Requirement already satisfied: proto-plus<2.0.0dev,>=1.22.3 in /opt/conda/lib/python3.10/site-packages (from google-cloud-aiplatform) (1.24.0)\n",
      "Requirement already satisfied: pydantic<3 in /opt/conda/lib/python3.10/site-packages (from google-cloud-aiplatform) (2.8.2)\n",
      "Requirement already satisfied: shapely<3.0.0dev in /opt/conda/lib/python3.10/site-packages (from google-cloud-aiplatform) (2.0.5)\n",
      "Requirement already satisfied: google-auth<3.0.0dev,>=2.14.1 in /opt/conda/lib/python3.10/site-packages (from google-cloud-aiplatform) (2.32.0)\n",
      "Requirement already satisfied: docstring-parser<1 in /opt/conda/lib/python3.10/site-packages (from google-cloud-aiplatform) (0.16)\n",
      "Requirement already satisfied: packaging>=14.3 in /opt/conda/lib/python3.10/site-packages (from google-cloud-aiplatform) (24.1)\n",
      "Requirement already satisfied: protobuf!=4.21.0,!=4.21.1,!=4.21.2,!=4.21.3,!=4.21.4,!=4.21.5,<6.0.0dev,>=3.20.2 in /opt/conda/lib/python3.10/site-packages (from google-cloud-aiplatform) (3.20.3)\n",
      "Requirement already satisfied: google-api-core[grpc]!=2.0.*,!=2.1.*,!=2.2.*,!=2.3.*,!=2.4.*,!=2.5.*,!=2.6.*,!=2.7.*,<3.0.0dev,>=1.34.1 in /opt/conda/lib/python3.10/site-packages (from google-cloud-aiplatform) (1.34.1)\n",
      "Requirement already satisfied: google-cloud-resource-manager<3.0.0dev,>=1.3.3 in /opt/conda/lib/python3.10/site-packages (from google-cloud-aiplatform) (1.12.5)\n",
      "Requirement already satisfied: google-crc32c<2.0dev,>=1.0 in /opt/conda/lib/python3.10/site-packages (from google-cloud-storage) (1.5.0)\n",
      "Collecting google-api-core<3.0.0dev,>=2.15.0\n",
      "  Downloading google_api_core-2.20.0-py3-none-any.whl (142 kB)\n",
      "\u001b[K     |████████████████████████████████| 142 kB 68.3 MB/s eta 0:00:01\n",
      "\u001b[?25hCollecting google-resumable-media>=2.7.2\n",
      "  Downloading google_resumable_media-2.7.2-py2.py3-none-any.whl (81 kB)\n",
      "\u001b[K     |████████████████████████████████| 81 kB 15.4 MB/s eta 0:00:01\n",
      "\u001b[?25hRequirement already satisfied: google-cloud-core<3.0dev,>=2.3.0 in /opt/conda/lib/python3.10/site-packages (from google-cloud-storage) (2.4.1)\n",
      "Requirement already satisfied: requests<3.0.0dev,>=2.18.0 in /opt/conda/lib/python3.10/site-packages (from google-cloud-storage) (2.32.3)\n",
      "Requirement already satisfied: python-dateutil<3.0dev,>=2.7.2 in /opt/conda/lib/python3.10/site-packages (from google-cloud-bigquery[pandas]) (2.9.0.post0)\n",
      "Requirement already satisfied: pandas>=1.1.0 in /opt/conda/lib/python3.10/site-packages (from google-cloud-bigquery[pandas]) (2.2.2)\n",
      "Requirement already satisfied: pyarrow>=3.0.0 in /opt/conda/lib/python3.10/site-packages (from google-cloud-bigquery[pandas]) (17.0.0)\n",
      "Requirement already satisfied: db-dtypes<2.0.0dev,>=0.3.0 in /opt/conda/lib/python3.10/site-packages (from google-cloud-bigquery[pandas]) (1.2.0)\n",
      "Requirement already satisfied: numpy>=1.16.6 in /opt/conda/lib/python3.10/site-packages (from db-dtypes<2.0.0dev,>=0.3.0->google-cloud-bigquery[pandas]) (1.26.4)\n",
      "Requirement already satisfied: googleapis-common-protos<2.0.dev0,>=1.56.2 in /opt/conda/lib/python3.10/site-packages (from google-api-core<3.0.0dev,>=2.15.0->google-cloud-storage) (1.63.2)\n",
      "Requirement already satisfied: grpcio-status<2.0.dev0,>=1.33.2 in /opt/conda/lib/python3.10/site-packages (from google-api-core<3.0.0dev,>=2.15.0->google-cloud-storage) (1.48.2)\n",
      "Requirement already satisfied: grpcio<2.0dev,>=1.33.2 in /opt/conda/lib/python3.10/site-packages (from google-api-core<3.0.0dev,>=2.15.0->google-cloud-storage) (1.65.4)\n",
      "Requirement already satisfied: rsa<5,>=3.1.4 in /opt/conda/lib/python3.10/site-packages (from google-auth<3.0.0dev,>=2.14.1->google-cloud-aiplatform) (4.9)\n",
      "Requirement already satisfied: cachetools<6.0,>=2.0.0 in /opt/conda/lib/python3.10/site-packages (from google-auth<3.0.0dev,>=2.14.1->google-cloud-aiplatform) (5.4.0)\n",
      "Requirement already satisfied: pyasn1-modules>=0.2.1 in /opt/conda/lib/python3.10/site-packages (from google-auth<3.0.0dev,>=2.14.1->google-cloud-aiplatform) (0.4.0)\n",
      "Requirement already satisfied: grpc-google-iam-v1<1.0.0dev,>=0.12.4 in /opt/conda/lib/python3.10/site-packages (from google-cloud-resource-manager<3.0.0dev,>=1.3.3->google-cloud-aiplatform) (0.13.1)\n",
      "Requirement already satisfied: pytz>=2020.1 in /opt/conda/lib/python3.10/site-packages (from pandas>=1.1.0->google-cloud-bigquery[pandas]) (2024.1)\n",
      "Requirement already satisfied: tzdata>=2022.7 in /opt/conda/lib/python3.10/site-packages (from pandas>=1.1.0->google-cloud-bigquery[pandas]) (2024.1)\n",
      "Requirement already satisfied: pyasn1<0.7.0,>=0.4.6 in /opt/conda/lib/python3.10/site-packages (from pyasn1-modules>=0.2.1->google-auth<3.0.0dev,>=2.14.1->google-cloud-aiplatform) (0.6.0)\n",
      "Requirement already satisfied: pydantic-core==2.20.1 in /opt/conda/lib/python3.10/site-packages (from pydantic<3->google-cloud-aiplatform) (2.20.1)\n",
      "Requirement already satisfied: typing-extensions>=4.6.1 in /opt/conda/lib/python3.10/site-packages (from pydantic<3->google-cloud-aiplatform) (4.12.2)\n",
      "Requirement already satisfied: annotated-types>=0.4.0 in /opt/conda/lib/python3.10/site-packages (from pydantic<3->google-cloud-aiplatform) (0.7.0)\n",
      "Requirement already satisfied: six>=1.5 in /opt/conda/lib/python3.10/site-packages (from python-dateutil<3.0dev,>=2.7.2->google-cloud-bigquery[pandas]) (1.16.0)\n",
      "Requirement already satisfied: urllib3<3,>=1.21.1 in /opt/conda/lib/python3.10/site-packages (from requests<3.0.0dev,>=2.18.0->google-cloud-storage) (1.26.19)\n",
      "Requirement already satisfied: idna<4,>=2.5 in /opt/conda/lib/python3.10/site-packages (from requests<3.0.0dev,>=2.18.0->google-cloud-storage) (3.3)\n",
      "Requirement already satisfied: certifi>=2017.4.17 in /opt/conda/lib/python3.10/site-packages (from requests<3.0.0dev,>=2.18.0->google-cloud-storage) (2024.7.4)\n",
      "Requirement already satisfied: charset-normalizer<4,>=2 in /opt/conda/lib/python3.10/site-packages (from requests<3.0.0dev,>=2.18.0->google-cloud-storage) (2.0.4)\n",
      "Installing collected packages: google-api-core, google-resumable-media, google-cloud-storage, google-cloud-aiplatform\n",
      "\u001b[33m  WARNING: The script tb-gcp-uploader is installed in '/home/jupyter/.local/bin' which is not on PATH.\n",
      "  Consider adding this directory to PATH or, if you prefer to suppress this warning, use --no-warn-script-location.\u001b[0m\n",
      "\u001b[31mERROR: pip's dependency resolver does not currently take into account all the packages that are installed. This behaviour is the source of the following dependency conflicts.\n",
      "google-api-python-client 1.8.0 requires google-api-core<2dev,>=1.13.0, but you have google-api-core 2.20.0 which is incompatible.\u001b[0m\n",
      "Successfully installed google-api-core-2.20.0 google-cloud-aiplatform-1.67.1 google-cloud-storage-2.18.2 google-resumable-media-2.7.2\n",
      "Note: you may need to restart the kernel to use updated packages.\n"
     ]
    }
   ],
   "source": [
    "%pip install --upgrade --user google-cloud-aiplatform google-cloud-storage 'google-cloud-bigquery[pandas]'"
   ]
  },
  {
   "cell_type": "markdown",
   "metadata": {
    "id": "R5Xep4W9lq-Z"
   },
   "source": [
    "### Restart current runtime\n",
    "\n",
    "To use the newly installed packages in this Jupyter runtime, you must restart the runtime. You can do this by running the cell below, which will restart the current kernel."
   ]
  },
  {
   "cell_type": "code",
   "execution_count": 2,
   "metadata": {
    "id": "XRvKdaPDTznN",
    "tags": []
   },
   "outputs": [
    {
     "data": {
      "text/plain": [
       "{'status': 'ok', 'restart': True}"
      ]
     },
     "execution_count": 2,
     "metadata": {},
     "output_type": "execute_result"
    }
   ],
   "source": [
    "# Restart kernel after installs so that your environment can access the new packages\n",
    "import IPython\n",
    "\n",
    "app = IPython.Application.instance()\n",
    "app.kernel.do_shutdown(True)"
   ]
  },
  {
   "cell_type": "markdown",
   "metadata": {
    "id": "SbmM4z7FOBpM"
   },
   "source": [
    "<div class=\"alert alert-block alert-warning\">\n",
    "<b>⚠️ The kernel is going to restart. Please wait until it is finished before continuing to the next step. ⚠️</b>\n",
    "</div>\n"
   ]
  },
  {
   "cell_type": "markdown",
   "metadata": {
    "id": "nCoTvkOJoh76"
   },
   "source": [
    "### Environment variables\n",
    "\n",
    "Sets environment variables. If asked, please replace the following `[your-project-id]` with your project ID and run it."
   ]
  },
  {
   "cell_type": "code",
   "execution_count": 1,
   "metadata": {
    "id": "fkmvFRrj3nQI",
    "tags": []
   },
   "outputs": [],
   "source": [
    "# get project ID\n",
    "PROJECT_ID = ! gcloud config get project\n",
    "PROJECT_ID = PROJECT_ID[0]\n",
    "LOCATION = \"us-central1\"\n",
    "if PROJECT_ID == \"(unset)\":\n",
    "    print(f\"Please set the project ID manually below\")"
   ]
  },
  {
   "cell_type": "code",
   "execution_count": 2,
   "metadata": {
    "id": "69XJ95rNoYG9",
    "tags": []
   },
   "outputs": [],
   "source": [
    "# define project information\n",
    "if PROJECT_ID == \"(unset)\":\n",
    "    PROJECT_ID = \"[qwiklabs-gcp-00-7bb304c9b6fc]\"  # @param {type:\"string\"}\n",
    "\n",
    "# generate an unique id for this session\n",
    "from datetime import datetime\n",
    "\n",
    "UID = datetime.now().strftime(\"%m%d%H%M\")"
   ]
  },
  {
   "cell_type": "markdown",
   "metadata": {
    "id": "ph7mDSMRVTIZ"
   },
   "source": [
    "### Authentication (Colab only)\n",
    "\n",
    "If you are running this notebook on Colab, you will need to run the following cell authentication. This step is not required if you are using Vertex AI Workbench as it is pre-authenticated."
   ]
  },
  {
   "cell_type": "code",
   "execution_count": null,
   "metadata": {
    "id": "5jQkFtlimNXR"
   },
   "outputs": [],
   "source": [
    "import sys\n",
    "\n",
    "# if it's Colab runtime, authenticate the user with Google Cloud\n",
    "if \"google.colab\" in sys.modules:\n",
    "    from google.colab import auth\n",
    "\n",
    "    auth.authenticate_user()"
   ]
  },
  {
   "cell_type": "markdown",
   "metadata": {
    "id": "jUPbl4IFLmC2"
   },
   "source": [
    "### Enable APIs\n",
    "\n",
    "Run the following to enable APIs for Compute Engine, Vertex AI, Cloud Storage and BigQuery with this Google Cloud project."
   ]
  },
  {
   "cell_type": "code",
   "execution_count": 3,
   "metadata": {
    "id": "qGf0qMMQNond",
    "tags": []
   },
   "outputs": [
    {
     "name": "stdout",
     "output_type": "stream",
     "text": [
      "Operation \"operations/acat.p2-466698658479-4ef106ef-2737-4d78-90f4-db0df3e68bed\" finished successfully.\n"
     ]
    }
   ],
   "source": [
    "! gcloud services enable compute.googleapis.com aiplatform.googleapis.com storage.googleapis.com bigquery.googleapis.com --project {PROJECT_ID}"
   ]
  },
  {
   "cell_type": "markdown",
   "metadata": {
    "id": "8cF8rkN3Lnhq"
   },
   "source": [
    "### Set IAM permissions\n",
    "\n",
    "Also, we need to add access permissions to the default service account for using those services.\n",
    "\n",
    "- Go to [the IAM page](https://console.cloud.google.com/iam-admin/) in the Console\n",
    "- Look for the principal for default compute service account. It should look like: `<project-number>-compute@developer.gserviceaccount.com`\n",
    "- Click the edit button at right and click `ADD ANOTHER ROLE` to add `Vertex AI User`, `BigQuery User` and `Storage Admin` to the account.\n",
    "\n",
    "This will look like this:\n",
    "\n",
    "![](https://storage.googleapis.com/github-repo/img/embeddings/vs-quickstart/iam-setting.png)"
   ]
  },
  {
   "cell_type": "markdown",
   "metadata": {
    "id": "mahCxLXHMIls"
   },
   "source": [
    "## Getting Started with Vertex AI Embeddings for Text\n",
    "\n",
    "Now it's ready to get started with embeddings!"
   ]
  },
  {
   "cell_type": "markdown",
   "metadata": {
    "id": "rq07_-o0VoZD"
   },
   "source": [
    "### Data Preparation\n",
    "\n",
    "We will be using [the Stack Overflow public dataset](https://console.cloud.google.com/marketplace/product/stack-exchange/stack-overflow) hosted on BigQuery table `bigquery-public-data.stackoverflow.posts_questions`. This is a very big dataset with 23 million rows that doesn't fit into the memory. We are going to limit it to 1000 rows for this tutorial."
   ]
  },
  {
   "cell_type": "code",
   "execution_count": 4,
   "metadata": {
    "id": "snrzPsEQDH4S",
    "tags": []
   },
   "outputs": [
    {
     "data": {
      "text/html": [
       "<div>\n",
       "<style scoped>\n",
       "    .dataframe tbody tr th:only-of-type {\n",
       "        vertical-align: middle;\n",
       "    }\n",
       "\n",
       "    .dataframe tbody tr th {\n",
       "        vertical-align: top;\n",
       "    }\n",
       "\n",
       "    .dataframe thead th {\n",
       "        text-align: right;\n",
       "    }\n",
       "</style>\n",
       "<table border=\"1\" class=\"dataframe\">\n",
       "  <thead>\n",
       "    <tr style=\"text-align: right;\">\n",
       "      <th></th>\n",
       "      <th>id</th>\n",
       "      <th>title</th>\n",
       "    </tr>\n",
       "  </thead>\n",
       "  <tbody>\n",
       "    <tr>\n",
       "      <th>0</th>\n",
       "      <td>73210586</td>\n",
       "      <td>Get list of all compartments in OCI Tenancy</td>\n",
       "    </tr>\n",
       "    <tr>\n",
       "      <th>1</th>\n",
       "      <td>73229845</td>\n",
       "      <td>Is there a way to use a skyve validator (e.g. ...</td>\n",
       "    </tr>\n",
       "    <tr>\n",
       "      <th>2</th>\n",
       "      <td>73501178</td>\n",
       "      <td>How can I prevent prettier from changing singl...</td>\n",
       "    </tr>\n",
       "    <tr>\n",
       "      <th>3</th>\n",
       "      <td>73301407</td>\n",
       "      <td>how to add policy file for the following in jaas</td>\n",
       "    </tr>\n",
       "    <tr>\n",
       "      <th>4</th>\n",
       "      <td>73214807</td>\n",
       "      <td>In skyve, how do I do a OR filter in a list grid?</td>\n",
       "    </tr>\n",
       "  </tbody>\n",
       "</table>\n",
       "</div>"
      ],
      "text/plain": [
       "         id                                              title\n",
       "0  73210586        Get list of all compartments in OCI Tenancy\n",
       "1  73229845  Is there a way to use a skyve validator (e.g. ...\n",
       "2  73501178  How can I prevent prettier from changing singl...\n",
       "3  73301407   how to add policy file for the following in jaas\n",
       "4  73214807  In skyve, how do I do a OR filter in a list grid?"
      ]
     },
     "execution_count": 4,
     "metadata": {},
     "output_type": "execute_result"
    }
   ],
   "source": [
    "# load the BQ Table into a Pandas DataFrame\n",
    "from google.cloud import bigquery\n",
    "\n",
    "QUESTIONS_SIZE = 1000\n",
    "\n",
    "bq_client = bigquery.Client(project=PROJECT_ID)\n",
    "QUERY_TEMPLATE = \"\"\"\n",
    "        SELECT distinct q.id, q.title\n",
    "        FROM (SELECT * FROM `bigquery-public-data.stackoverflow.posts_questions`\n",
    "        where Score > 0 ORDER BY View_Count desc) AS q\n",
    "        LIMIT {limit} ;\n",
    "        \"\"\"\n",
    "query = QUERY_TEMPLATE.format(limit=QUESTIONS_SIZE)\n",
    "query_job = bq_client.query(query)\n",
    "rows = query_job.result()\n",
    "df = rows.to_dataframe()\n",
    "\n",
    "# examine the data\n",
    "df.head()"
   ]
  },
  {
   "cell_type": "markdown",
   "metadata": {
    "id": "j6022U1FWzpb"
   },
   "source": [
    "### Call the API to generate embeddings\n",
    "\n",
    "With the Stack Overflow dataset, we will use the `title` column (the question title) and generate embedding for it with Embeddings for Text API. The API is available under the [vertexai](https://cloud.google.com/python/docs/reference/aiplatform/latest/vertexai) package of the SDK.\n",
    "\n",
    "You may see some warning messages from the TensorFlow library but you can ignore them."
   ]
  },
  {
   "cell_type": "code",
   "execution_count": 5,
   "metadata": {
    "id": "pY8M4DqO8wGx",
    "tags": []
   },
   "outputs": [],
   "source": [
    "# init the vertexai package\n",
    "import vertexai\n",
    "\n",
    "vertexai.init(project=PROJECT_ID, location=LOCATION)"
   ]
  },
  {
   "cell_type": "markdown",
   "metadata": {
    "id": "jrG82n-y-EC5"
   },
   "source": [
    "From the package, import [TextEmbeddingModel](https://cloud.google.com/python/docs/reference/aiplatform/latest/vertexai.language_models.TextEmbeddingModel) and get a model."
   ]
  },
  {
   "cell_type": "code",
   "execution_count": 6,
   "metadata": {
    "id": "YVLHjSeOGoTu",
    "tags": []
   },
   "outputs": [],
   "source": [
    "# Load the text embeddings model\n",
    "from vertexai.language_models import TextEmbeddingModel\n",
    "\n",
    "model = TextEmbeddingModel.from_pretrained(\"textembedding-gecko@001\")"
   ]
  },
  {
   "cell_type": "markdown",
   "metadata": {
    "id": "FqdVsgZDb_hc"
   },
   "source": [
    "In this tutorial we will use `textembedding-gecko@001` model for getting text embeddings. Please take a look at [Supported models](https://cloud.google.com/vertex-ai/docs/generative-ai/embeddings/get-text-embeddings#supported_models) on the doc to see the list of supported models.\n",
    "\n",
    "Once you get the model, you can call its [get_embeddings](https://cloud.google.com/python/docs/reference/aiplatform/latest/vertexai.language_models.TextEmbeddingModel#vertexai_language_models_TextEmbeddingModel_get_embeddings) function to get embeddings. You can pass up to 5 texts at once in a call. But there is a caveat. By default, the text embeddings API has a \"request per minute\" quota set to 60 for new Cloud projects and 600 for projects with usage history (see [Quotas and limits](https://cloud.google.com/vertex-ai/docs/quotas#request_quotas) to check the latest quota value for `base_model:textembedding-gecko`). So, rather than using the function directly, you may want to define a wrapper like below to limit under 10 calls per second, and pass 5 texts each time."
   ]
  },
  {
   "cell_type": "code",
   "execution_count": 7,
   "metadata": {
    "id": "8HUb9u_P2VWW",
    "tags": []
   },
   "outputs": [],
   "source": [
    "import time\n",
    "\n",
    "import tqdm  # to show a progress bar\n",
    "\n",
    "# get embeddings for a list of texts\n",
    "BATCH_SIZE = 5\n",
    "\n",
    "\n",
    "def get_embeddings_wrapper(texts):\n",
    "    embs = []\n",
    "    for i in tqdm.tqdm(range(0, len(texts), BATCH_SIZE)):\n",
    "        time.sleep(1)  # to avoid the quota error\n",
    "        result = model.get_embeddings(texts[i : i + BATCH_SIZE])\n",
    "        embs = embs + [e.values for e in result]\n",
    "    return embs"
   ]
  },
  {
   "cell_type": "markdown",
   "metadata": {
    "id": "aK4eTSPfcEuh"
   },
   "source": [
    "The following code will get embedding for the question titles and add them as a new column `embedding` to the DataFrame. This will take a few minutes."
   ]
  },
  {
   "cell_type": "code",
   "execution_count": 8,
   "metadata": {
    "id": "FcqPvu4PluN1",
    "tags": []
   },
   "outputs": [
    {
     "name": "stderr",
     "output_type": "stream",
     "text": [
      "100%|██████████| 200/200 [03:39<00:00,  1.10s/it]\n"
     ]
    },
    {
     "data": {
      "text/html": [
       "<div>\n",
       "<style scoped>\n",
       "    .dataframe tbody tr th:only-of-type {\n",
       "        vertical-align: middle;\n",
       "    }\n",
       "\n",
       "    .dataframe tbody tr th {\n",
       "        vertical-align: top;\n",
       "    }\n",
       "\n",
       "    .dataframe thead th {\n",
       "        text-align: right;\n",
       "    }\n",
       "</style>\n",
       "<table border=\"1\" class=\"dataframe\">\n",
       "  <thead>\n",
       "    <tr style=\"text-align: right;\">\n",
       "      <th></th>\n",
       "      <th>id</th>\n",
       "      <th>title</th>\n",
       "      <th>embedding</th>\n",
       "    </tr>\n",
       "  </thead>\n",
       "  <tbody>\n",
       "    <tr>\n",
       "      <th>0</th>\n",
       "      <td>73210586</td>\n",
       "      <td>Get list of all compartments in OCI Tenancy</td>\n",
       "      <td>[0.005264869425445795, -0.030570918694138527, ...</td>\n",
       "    </tr>\n",
       "    <tr>\n",
       "      <th>1</th>\n",
       "      <td>73229845</td>\n",
       "      <td>Is there a way to use a skyve validator (e.g. ...</td>\n",
       "      <td>[-0.045723654329776764, -0.03338964655995369, ...</td>\n",
       "    </tr>\n",
       "    <tr>\n",
       "      <th>2</th>\n",
       "      <td>73501178</td>\n",
       "      <td>How can I prevent prettier from changing singl...</td>\n",
       "      <td>[0.02198049984872341, 0.018069377169013023, 0....</td>\n",
       "    </tr>\n",
       "    <tr>\n",
       "      <th>3</th>\n",
       "      <td>73301407</td>\n",
       "      <td>how to add policy file for the following in jaas</td>\n",
       "      <td>[0.0360308513045311, -0.0026179514825344086, 0...</td>\n",
       "    </tr>\n",
       "    <tr>\n",
       "      <th>4</th>\n",
       "      <td>73214807</td>\n",
       "      <td>In skyve, how do I do a OR filter in a list grid?</td>\n",
       "      <td>[-0.019158916547894478, -0.0034619250800460577...</td>\n",
       "    </tr>\n",
       "  </tbody>\n",
       "</table>\n",
       "</div>"
      ],
      "text/plain": [
       "         id                                              title  \\\n",
       "0  73210586        Get list of all compartments in OCI Tenancy   \n",
       "1  73229845  Is there a way to use a skyve validator (e.g. ...   \n",
       "2  73501178  How can I prevent prettier from changing singl...   \n",
       "3  73301407   how to add policy file for the following in jaas   \n",
       "4  73214807  In skyve, how do I do a OR filter in a list grid?   \n",
       "\n",
       "                                           embedding  \n",
       "0  [0.005264869425445795, -0.030570918694138527, ...  \n",
       "1  [-0.045723654329776764, -0.03338964655995369, ...  \n",
       "2  [0.02198049984872341, 0.018069377169013023, 0....  \n",
       "3  [0.0360308513045311, -0.0026179514825344086, 0...  \n",
       "4  [-0.019158916547894478, -0.0034619250800460577...  "
      ]
     },
     "execution_count": 8,
     "metadata": {},
     "output_type": "execute_result"
    }
   ],
   "source": [
    "# get embeddings for the question titles and add them as \"embedding\" column\n",
    "df = df.assign(embedding=get_embeddings_wrapper(list(df.title)))\n",
    "df.head()"
   ]
  },
  {
   "cell_type": "markdown",
   "metadata": {
    "id": "nB53SiJjVN6e"
   },
   "source": [
    "## Look at the embedding similarities\n",
    "\n",
    "Let's see how these embeddings are organized in the embedding space with their meanings by quickly calculating the similarities between them and sorting them.\n",
    "\n",
    "As embeddings are vectors, you can calculate similarity between two embeddings by using one of the popular metrics like the followings:\n",
    "\n",
    "![](https://storage.googleapis.com/github-repo/img/embeddings/textemb-vs-notebook/8.png)\n",
    "\n",
    "Which metric should we use? Usually it depends on how each model is trained. In case of the model `textembedding-gecko@001`, we need to use inner product (dot product).\n",
    "\n",
    "In the following code, it picks up one question randomly and uses the numpy `np.dot` function to calculate the similarities between the question and other questions."
   ]
  },
  {
   "cell_type": "code",
   "execution_count": 9,
   "metadata": {
    "id": "lKs6jSu7NiM6",
    "tags": []
   },
   "outputs": [
    {
     "data": {
      "text/plain": [
       "array([0.61369711, 0.5047307 , 0.53117211, 0.527838  , 0.69498355])"
      ]
     },
     "execution_count": 9,
     "metadata": {},
     "output_type": "execute_result"
    }
   ],
   "source": [
    "import random\n",
    "\n",
    "import numpy as np\n",
    "\n",
    "# pick one of them as a key question\n",
    "key = random.randint(0, len(df))\n",
    "\n",
    "# calc dot product between the key and other questions\n",
    "embs = np.array(df.embedding.to_list())\n",
    "similarities = np.dot(embs[key], embs.T)\n",
    "\n",
    "# print similarities for the first 5 questions\n",
    "similarities[:5]"
   ]
  },
  {
   "cell_type": "markdown",
   "metadata": {
    "id": "srM04lJBQp4w"
   },
   "source": [
    "Finally, sort the questions with the similarities and print the list."
   ]
  },
  {
   "cell_type": "code",
   "execution_count": 10,
   "metadata": {
    "id": "lTUVvj9FQlab",
    "tags": []
   },
   "outputs": [
    {
     "name": "stdout",
     "output_type": "stream",
     "text": [
      "Key question: How to filter listings through category or tags?\n",
      "\n",
      "1.0000 How to filter listings through category or tags?\n",
      "0.7074 How to provide and invalidate tags based on multiple query arguments\n",
      "0.7056 Filter List to render or conditionally render list's elements\n",
      "0.6950 In skyve, how do I do a OR filter in a list grid?\n",
      "0.6555 Use Glue Catalog for Spark On EMR with Ranger plugin\n",
      "0.6535 ReactJS API filter\n",
      "0.6521 How to make a list of words?\n",
      "0.6494 Is there a way to filter a list of union types in Elm without explict case/pattern matching?\n",
      "0.6409 Group / sort items from a list into sublists where every next item is a substring of the previous\n",
      "0.6365 How to specify properties of certain objects via typing?\n",
      "0.6348 How to extract a word that could possibly be followed with another word\n",
      "0.6347 Ace tern editor. Make own autocomplete properties for unknown value\n",
      "0.6280 How to iterate fields as per coming input fields in NEST queries?\n",
      "0.6254 Filtering of the array of objects\n",
      "0.6252 How to add SharePoint list data or Google sheet to Active Campaign lists?\n",
      "0.6220 How to filter a dataframe based on the values of another dataframe in python\n",
      "0.6216 Only return rows where Status Online is the only status is applicable (perhaps a coalesce function or qualify function)\n",
      "0.6194 How to compare a textformfield value to all items of a List?\n",
      "0.6164 How to integrate api data with Section List react-native?\n",
      "0.6137 Get list of all compartments in OCI Tenancy\n"
     ]
    }
   ],
   "source": [
    "# print the question\n",
    "print(f\"Key question: {df.title[key]}\\n\")\n",
    "\n",
    "# sort and print the questions by similarities\n",
    "sorted_questions = sorted(\n",
    "    zip(df.title, similarities), key=lambda x: x[1], reverse=True\n",
    ")[:20]\n",
    "for i, (question, similarity) in enumerate(sorted_questions):\n",
    "    print(f\"{similarity:.4f} {question}\")"
   ]
  },
  {
   "cell_type": "markdown",
   "metadata": {
    "id": "S75SQzAg1wHV"
   },
   "source": [
    "# Find embeddings fast with Vertex AI Vector Search\n",
    "\n",
    "As we have explained above, you can find similar embeddings by calculating the distance or similarity between the embeddings.\n",
    "\n",
    "But this isn't easy when you have millions or billions of embeddings. For example, if you have 1 million embeddings with 768 dimensions, you need to repeat the distance calculations for 1 million x 768 times. This would take some seconds - too slow."
   ]
  },
  {
   "cell_type": "markdown",
   "metadata": {
    "id": "0sjhTy-a47YH"
   },
   "source": [
    "So the researchers have been studying a technique called [Approximate Nearest Neighbor (ANN)](https://en.wikipedia.org/wiki/Nearest_neighbor_search) for faster search. ANN uses \"vector quantization\" for separating the space into multiple spaces with a tree structure. This is similar to the index in relational databases for improving the query performance, enabling very fast and scalable search with billions of embeddings.\n",
    "\n",
    "With the rise of LLMs, the ANN is getting popular quite rapidly, known as the Vector Search technology.\n",
    "\n",
    "![](https://storage.googleapis.com/gweb-cloudblog-publish/images/7._ANN.1143068821171228.max-2200x2200.png)\n",
    "\n",
    "In 2020, Google Research published a new ANN algorithm called [ScaNN](https://ai.googleblog.com/2020/07/announcing-scann-efficient-vector.html). It is considered one of the best ANN algorithms in the industry, also the most important foundation for search and recommendation in major Google services such as Google Search, YouTube and many others.\n"
   ]
  },
  {
   "cell_type": "markdown",
   "metadata": {
    "id": "xVOL8BgM2isz"
   },
   "source": [
    "## What is Vertex AI Vector Search?\n",
    "\n",
    "Google Cloud developers can take the full advantage of Google's vector search technology with [Vertex AI Vector Search](https://cloud.google.com/vertex-ai/docs/vector-search/overview) (previously called Matching Engine). With this fully managed service, developers can just add the embeddings to its index and issue a search query with a key embedding for the blazingly fast vector search. In the case of the Stack Overflow demo, Vector Search can find relevant questions from 8 million embeddings in tens of milliseconds.\n",
    "\n",
    "![](https://storage.googleapis.com/github-repo/img/embeddings/textemb-vs-notebook/9.png)\n",
    "\n",
    "With Vector Search, you don't need to spend much time and money building your own vector search service from scratch or using open source tools if your goal is high scalability, availability and maintainability for production systems."
   ]
  },
  {
   "cell_type": "markdown",
   "metadata": {
    "id": "uBt8tjidSzyU"
   },
   "source": [
    "## Get Started with Vector Search\n",
    "\n",
    "When you already have the embeddings, then getting started with Vector Search is pretty easy. In this section, we will follow the steps below.\n",
    "\n",
    "### Setting up Vector Search\n",
    "- Save the embeddings in JSON files on Cloud Storage\n",
    "- Build an Index\n",
    "- Create an Index Endpoint\n",
    "- Deploy the Index to the endpoint\n",
    "\n",
    "### Use Vector Search\n",
    "\n",
    "- Query with the endpoint\n",
    "\n",
    "### **Tip for Colab users**\n",
    "\n",
    "If you use Colab for this tutorial, you may lose your runtime while you are waiting for the Index building and deployment in the later sections as it takes tens of minutes. In that case, run the following sections again with the new instance to recover the runtime: [Install Python SDK, Environment variables and Authentication](https://colab.research.google.com/drive/1xJhLFEyPqW0qvKiERD6aYgeTHa6_U50N?resourcekey=0-2qUkxckCjt6W03AsqvZHhw#scrollTo=AtXnXhF8U-8R&line=9&uniqifier=1).\n",
    "\n",
    "Then, use the [Utilities](https://colab.research.google.com/drive/1xJhLFEyPqW0qvKiERD6aYgeTHa6_U50N?resourcekey=0-2qUkxckCjt6W03AsqvZHhw#scrollTo=BE1tELsH-u8N&line=1&uniqifier=1) to recover the Index and Index Endpoint and continute with the rest."
   ]
  },
  {
   "cell_type": "markdown",
   "metadata": {
    "id": "6pu1a3zjfQ0D"
   },
   "source": [
    "### Save the embeddings in a JSON file\n",
    "To load the embeddings to Vector Search, we need to save them in JSON files with JSONL format. See more information in the docs at [Input data format and structure](https://cloud.google.com/vertex-ai/docs/matching-engine/match-eng-setup/format-structure#data-file-formats).\n",
    "\n",
    "First, export the `id` and `embedding` columns from the DataFrame in JSONL format, and save it."
   ]
  },
  {
   "cell_type": "code",
   "execution_count": 11,
   "metadata": {
    "id": "GzZ30d4j_uLU",
    "tags": []
   },
   "outputs": [
    {
     "name": "stdout",
     "output_type": "stream",
     "text": [
      "{\"id\":73210586,\"embedding\":[0.0052648694,-0.0305709187,0.009371073,0.0306038409,0.0292504616,-0.0004850139,0.042725075,0.005712965,-0.005319145,0.0056977542,0.0337190889,0.0450567491,0.0225744396,0.0114872232,-0.0087124882,-0.0324663669,-0.0163718183,0.033180967,0.0552080348,0.0307232924,-0.0607079938,0.0046264012,-0.0177320931,0.036729496,0.0049402444,-0.0969058052,0.021130085,-0.0463581756,-0.021417724,0.0069358679,-0.0043225046,0.0120243179,-0.0384698883,-0.0247507226,0.0240042824,0.069857195,-0.0131003959,0.0264980327,-0.031630449,0.0313478447,-0.0050025173,-0.0570299663,0.0282615982,0.0034924187,0.0079565886,0.0220734235,-0.0407601073,0.0003261904,-0.0621538609,-0.055767715,-0.0432378873,-0.0191250369,-0.0226190109,0.0074916864,0.016074935,0.0536266156,-0.0615353137,0.0023471247,-0.070388861,-0.0126664331,0.0533171333,-0.0412071906,-0.0073478641,-0.052915141,-0.0117181586,0.006570816,0.0164500754,0.0198292024,-0.0401209369,-0.0211396497,0.0199757833,0.0400361754,-0.0080521833,-0.0212330371,0.0856484622,0.0515443943,-0.0003493915,0.0410375483,0.0161084775,-0.0239431672,0.0082166791,-0.0410002097,-0.0322464742,-0.1023791209,-0.0265663043,0.0374980122,-0.0334482156,0.0301298965,0.0163853243,0.050056681,-0.0151521917,-0.0389688052,0.0332457498,0.0400652736,-0.0363658108,0.0011629872,-0.0199416634,-0.0263844151,0.0027275109,-0.017502727,-0.0308313686,-0.0744563714,0.0812814534,-0.0502498187,0.0431846902,-0.0070385491,-0.0412393957,0.0439312607,-0.0362099595,-0.0749124289,-0.1065561026,0.0030473706,-0.0103266379,0.0755089968,0.0005133804,0.020110622,0.0186317936,-0.0150576485,0.0747457668,0.0117310444,-0.0547309257,0.0256464556,0.0559792891,-0.0112404684,-0.0511113517,0.019067727,0.031080395,-0.0337043442,0.0516820177,-0.000382823,0.0424737036,0.0036955255,0.0284447689,-0.0572733767,0.0225673858,0.0901184082,0.0447611697,-0.0295910053,0.0240685847,0.0360503234,-0.0502760969,0.0204880722,-0.0168750752,-0.0093834316,-0.0250115134,-0.0511842854,-0.0392961763,-0.0476237796,-0.0507333726,-0.0098456247,0.0278572086,-0.0711305141,-0.0114981094,0.0455632843,0.0437788926,0.0368083753,0.0324933231,0.0270553268,-0.0429442711,-0.0597469583,-0.0110191014,-0.0798659399,0.0333430506,-0.0112114577,0.011254454,-0.0277537983,0.010403418,0.0083169825,0.0050743772,0.0121665215,0.0345386602,-0.1180098578,0.0251950976,-0.0210685786,0.0184160788,-0.0323240645,-0.014027115,0.007697884,-0.0068545118,-0.0597502664,-0.0238346625,-0.0161158219,-0.0012062216,-0.0149045745,-0.046037443,-0.045823615,0.0471843556,-0.0137934564,0.0003876516,0.0335897915,-0.0295028817,0.0243537109,0.0125057139,-0.0732208267,0.0052849138,-0.0221967064,0.0415010303,-0.1328113824,-0.0395777225,0.0184872653,0.0153048821,-0.0076468275,-0.0091004455,0.0590451285,0.0208033025,-0.0088281203,-0.0336110294,0.0029978617,0.0167068299,-0.0374934934,-0.0279316958,-0.0123073487,-0.01443459,-0.0069827414,0.0286632963,-0.0056060841,-0.0010044952,-0.0628800616,-0.0647588074,0.011200144,0.0196937937,0.0377594009,-0.0031044479,0.0459952354,-0.0425304472,-0.0072654411,0.0259979125,0.0378326215,0.0345408581,0.0425067469,-0.0103196288,-0.027230911,0.0120274276,-0.0365232043,0.0055743204,0.0544936135,0.0069049504,-0.033184085,-0.0254318211,-0.0349798873,-0.024851758,0.0725092664,-0.0416435599,0.0332128145,-0.0287031792,0.0260223467,0.0365240313,0.0332749486,0.0802172124,-0.0286009982,0.0162925236,-0.0319159664,0.0193859283,-0.0123942103,0.0311365817,-0.0011689776,0.031222919,-0.0013933385,-0.0382091217,-0.0144067183,-0.0291112494,0.0026934745,0.0109181264,0.0833608881,-0.0126798376,-0.0015591214,-0.0305094831,0.0060481546,0.03303276,-0.0200744774,-0.0320736021,-0.0291566309,0.0364098847,0.0424832217,-0.0408887453,0.0192702059,0.0130109722,0.0070480453,0.043366503,0.0405090414,-0.0364601463,-0.0060602417,0.0261602867,0.0390189923,0.006860442,0.0086206449,-0.0096653672,0.000034089,-0.0428977236,0.0107388888,0.0601111464,-0.0779717788,-0.0161440689,0.0447513163,-0.0243227184,-0.0045062248,0.0444790274,-0.0031647275,-0.0326831304,-0.0228060968,0.0152740143,-0.0169956945,0.0244110655,0.009339449,-0.041072391,-0.0154086044,0.0006266483,0.0061549754,0.0609629638,-0.0372136645,-0.0633444116,-0.0051693078,0.0082684644,0.0168372151,-0.0149604334,0.0082157282,0.0148512218,0.0005884035,-0.0839790851,0.0257317666,-0.0521917865,-0.0355281308,0.0318238065,0.0067887944,-0.0366320498,-0.015430551,0.0731287003,-0.0059774192,0.0882240981,-0.0444779508,-0.0822709724,0.0099921329,-0.033105202,0.0241585895,0.0069997772,0.0498046316,0.0387251154,0.0487581268,-0.0265340246,-0.0283147469,0.0307292417,-0.0407466628,-0.038511619,-0.0087003093,-0.0526083484,0.0151131684,-0.0467243269,-0.0702999607,-0.0246962048,-0.063834466,-0.0346932821,0.000032659,-0.0304666236,0.0188218597,0.0002819728,0.0146714905,-0.0048587178,0.0272606798,0.0212981571,-0.0393193811,-0.0611669682,-0.035550978,-0.0469951332,0.0524639711,0.0665007085,0.0310962368,-0.0721220747,0.0441046469,0.0028038882,-0.060587503,0.0066760057,0.0081834411,0.0127109652,-0.007840313,-0.0837829635,-0.010745327,-0.0213327222,-0.0275637675,0.0301550366,0.0158660058,-0.0270291977,0.0359074585,0.0219041724,0.0059796539,0.0358506925,0.0470452793,0.0437402241,0.0626847968,-0.0031436253,-0.0396421365,0.0181650203,-0.0037025779,0.0216244217,-0.028396558,-0.0432755537,0.0486413389,-0.0388681963,0.0448717251,-0.0022207878,-0.0201678053,0.0392334051,0.0007426651,-0.0634605363,-0.0628628805,0.0151577452,0.0094332965,0.0656369552,0.0179010238,0.0258209091,-0.0214451514,0.0260718148,-0.0157961305,0.0059946841,0.0478268266,0.009362529,-0.0588832907,0.0195333399,0.0068527758,0.0278420541,0.0052646715,0.0257398449,-0.0178994294,-0.0339029208,0.0463740081,0.0240269341,-0.0325828381,-0.0448611677,0.0441207699,-0.0458719246,-0.0591326319,0.0217806865,-0.0242764968,0.027097024,-0.0121212527,-0.0001119516,-0.0188013501,0.1139952317,0.0092804898,0.0162931588,-0.0170110092,-0.0297065321,0.0376376137,-0.0445026308,0.011108187,-0.02639951,-0.0092287222,-0.0488555208,-0.030577708,-0.0278964397,-0.0250874441,-0.0288303196,0.0391138121,0.0301226638,0.0650437772,-0.0220965724,0.0280066673,0.0204926468,0.0102527086,0.0314986333,0.0282705985,0.0153654646,-0.0487617739,-0.0062790709,0.0584884174,-0.0244283956,0.0041852999,0.0300525017,0.0393496454,0.0081939576,0.0084030107,-0.0377971381,0.050869897,-0.0254697818,-0.0740165934,0.0311951675,-0.0033061418,-0.0051324409,0.0754110813,-0.0675657317,-0.0161079429,-0.0322274379,-0.0344974734,-0.0465870202,-0.0430331156,0.0181543361,0.0281423163,0.0545438565,0.0165642686,0.0349115767,0.000873023,0.0286223795,-0.005479916,0.013067591,-0.0297842808,0.0169045851,0.0058611943,-0.0020059904,0.0148204714,0.0076753544,0.0477094464,0.0031235968,0.0182156973,0.0364454687,-0.0373816565,-0.0248984117,-0.010908369,0.0151126375,-0.0407012813,-0.0443788059,0.0253608394,-0.0480933636,-0.0077716894,0.0450770743,-0.0184803307,-0.0399103127,-0.114024438,-0.0177172907,0.0300429445,0.0034451312,-0.0154311322,0.0177221224,0.0232033599,0.0297920275,-0.0226517972,0.0396217182,0.0420941114,-0.0143235913,-0.0337970108,-0.0442476422,0.0206519123,0.0050714384,-0.0242945887,0.005080048,0.0310339648,-0.0275718551,-0.0022282025,-0.0022778171,0.0113015035,0.0266817063,0.0312112626,0.0193093754,-0.0060404148,0.0317117944,0.0091555724,0.0008407215,-0.0036113574,0.0127719976,0.0030214807,-0.0233762078,0.0288840625,0.0291524921,-0.0403003655,-0.0159265753,0.0424686484,0.051098574,-0.0290509257,0.0575600825,-0.0177737121,-0.024640834,-0.0012421325,0.0011875725,0.0110659832,-0.0333285891,-0.0094075436,0.0244058799,0.004853732,0.0327925123,0.0346547812,0.0032716177,0.0756444857,0.0059547243,-0.0523078218,-0.0171951037,0.0038103622,-0.0165576953,0.0519204549,-0.0100981547,-0.0238256305,0.0352346301,0.0079840869,0.0291450247,0.0152424853,-0.0072781029,0.0495012142,-0.0678277016,-0.0159226209,-0.0170877129,-0.0175652187,0.0339356326,-0.0110225063,0.0288258977,-0.08651568,-0.016539555,0.0177990589,-0.0236284882,-0.0023557642,-0.016476633,-0.0017576984,0.0369110629,0.0299676228,-0.0042123562,-0.0118274642,0.0049402169,-0.0191236567,-0.0021639059,0.0354500376,0.0399521925,0.0356999524,0.0499560907,0.0200458448,0.0347942077,0.0473085903,0.0379104577,0.0450000986,-0.0122716362,-0.0310205314,-0.008601387,0.0071302308,0.0098488582,-0.0443602614,0.1141904816,0.0209317226,-0.0181697272,-0.0617820583,0.0526565537,-0.047758691,-0.0048919632,0.0121655259,0.0134726856,0.003427462,0.0043375934,-0.0657781437,-0.050728932,-0.073832497,-0.0136104999,-0.0110356547,-0.0156182013,0.0039042293,0.0711839721,-0.0175010543,0.060406886,0.0246047229,-0.0410805456,-0.0015197656,0.0201677624,-0.0105802249,-0.0720597059,-0.04452084,0.0011284908,0.0389900841,0.0174210109,-0.0151242372,0.0085526165,-0.0324147157,0.0500952415,-0.0053510438,-0.0513566621,0.0421543531,-0.012566546,-0.0187614635,0.0058981916,0.0077897031,0.0524034202,0.0517308898,-0.0610925704,0.0437308587,0.0015472807,0.0313769579,0.0331279933,-0.0282787681,-0.0316844396,-0.0403756648,0.0106340228,0.0084891766,0.0003836533,0.0110386619,0.0500410013,0.0177676901,0.0532147922,0.0357363112,-0.0950880423,0.0176722128,0.0108229956,-0.0646743998,0.028404098,-0.0302203558,-0.0027552729,0.0562935621,-0.0399796553,0.0063475021,0.0224056151,0.0330032408,-0.0298051145,0.0149509907,0.0024959787,-0.0575557649,-0.0156557504,-0.0376647115,0.0165545698,0.0099654105,0.0502027646,-0.0349845737,-0.0088791875,0.0216924157,0.0583121702,-0.0118713519,-0.0386538208,0.0130116874,-0.0299547948,-0.0340348408,0.0175742358,-0.0022392734,0.0369020142,0.0478028171,-0.0075555672,0.0555701107,-0.0446051061,-0.0188840888,-0.0087686712,0.0190736745,-0.0026827899,0.0404569283,0.0320561863,-0.0619671196,-0.0016180314,0.0033198926,-0.0017491903,-0.0675008819,0.0060091824,-0.0104155252,0.0048633614,-0.0183317997,0.0379025415,0.0677849352,0.0461182036,-0.0592048168,0.0556845032,-0.0189917199,0.0328081064,-0.0545616001,-0.0537791997,0.0480961427,-0.0215824377,-0.0111013874,0.03403138,0.003868418,0.0238042884,0.0147770513,-0.0050618006,-0.0468516871,-0.0680424273,0.0425977856,0.0089915246,-0.0186416432,0.034844216,0.052800864,0.0078727789,0.0198163427,-0.0301377065,0.0453639627,-0.0646280274,0.0350002013,-0.0194094684,-0.0328224674,0.0321316645,0.0118133044,0.003977546,-0.0061695608]}\n",
      "{\"id\":73229845,\"embedding\":[-0.0457236543,-0.0333896466,0.0359255895,0.0450347103,0.017817134,-0.014656106,0.0107488595,0.0454248376,0.0305867698,0.0227600243,-0.0134649975,-0.0366972648,0.0576521493,0.0359928124,0.0261316299,-0.0498172492,-0.0328661725,0.0060395221,-0.0074147005,0.0303516388,-0.0814462006,0.0103836302,0.0083583891,0.0072707143,-0.0106378952,-0.0664574653,-0.0328376628,-0.0479436815,-0.0013097187,-0.0191911999,-0.0114724459,0.0133458739,0.0111535937,-0.034766905,-0.0563004315,0.0046561011,-0.0144000361,0.0457667708,-0.0150410905,0.0114180092,0.0241621938,-0.0157478414,0.0030057263,0.0367733426,-0.0309404582,0.0493768342,0.0047935219,-0.0136694182,-0.0457326435,-0.0507804193,-0.0390879512,-0.0481692925,-0.0410641134,0.0036260113,0.0017901775,0.0384331569,-0.0113818059,0.0154175935,0.0041098171,-0.0182154328,0.0119429892,0.0070149926,0.0105085382,-0.013074249,-0.0281578805,0.0470828339,0.0194003414,-0.0383569561,0.0330053233,-0.0179510899,0.0205672327,-0.0507771969,-0.0473093055,-0.0589537583,0.007452317,0.0221581813,-0.0296919532,0.014634137,0.0904972553,-0.033036299,-0.0398948416,0.0027780151,-0.0161076318,-0.0887874067,0.0087874159,0.0442861654,-0.0198681392,0.0043165409,-0.0253198557,0.0432316773,-0.0016913608,0.0125926407,-0.0330986083,0.0364780799,-0.0515587479,-0.0295694843,-0.0323978886,-0.0226647146,-0.0032122927,0.0093015637,-0.0115697412,-0.0427171737,0.0545239374,-0.0156337768,0.01756992,0.0167352501,-0.036668431,0.0270578377,-0.0416183956,-0.0660225302,-0.0459635668,0.0593575425,-0.0233352352,0.0287445299,-0.051876191,-0.0269943867,0.0039206087,-0.0362498388,0.013629647,0.0693615973,-0.0438533835,-0.0325684324,0.0466111377,0.0190070029,0.0379816107,0.0321371704,0.069222793,-0.0262171887,0.0103498753,-0.0001569156,0.0344386585,-0.0084861116,-0.0340533108,-0.0123107154,0.0641371757,0.0349408127,-0.0014924903,-0.0105347401,0.0253105629,0.015873231,-0.0778242201,0.0044998755,-0.0399161913,0.0407102667,0.013532321,-0.0294326283,0.0010330837,0.0098308092,-0.0182754435,0.0454382338,0.0005897738,-0.046476841,0.0622205287,0.0265443362,0.0336027816,0.0352585167,0.0265701171,0.0749611109,-0.0269118585,0.0315521359,0.0195632391,-0.0872530937,-0.0268966164,0.0207753852,0.0562138781,0.0249454789,0.0104593122,0.0128956642,0.0196514092,-0.0148998825,0.0325765796,-0.1211331785,0.0213254075,-0.0354863368,0.0743631944,-0.0368127264,-0.0289877243,0.0613842532,0.0227950625,-0.0245236829,-0.0187412649,0.0158995315,0.0391206332,-0.0507560298,-0.0366457775,-0.0086881397,0.0249285195,-0.0198764652,-0.0243384279,0.0220321715,-0.0382673889,0.066642046,-0.0309790634,-0.0406373441,-0.044399973,0.0063138646,0.0342945531,-0.1825347245,-0.0344089717,0.0115952585,-0.0340818502,-0.0587048382,-0.0185475443,0.0139763569,-0.0122889783,0.0355641954,-0.0196035914,0.0383776538,-0.0133176055,0.0257704426,0.0084825056,0.0105551975,0.0321082957,0.02758063,0.0005274394,0.0123005761,0.0035366747,0.0024015859,-0.0765179992,0.0028696519,-0.0281729661,0.0193013884,0.0314452946,0.0185808837,-0.0167738236,-0.0103810001,0.0048752744,-0.0292562656,0.0134720597,-0.0292024203,-0.016852105,-0.0103996117,-0.0256108381,-0.0290278811,-0.054006312,0.0528097078,0.0084247729,0.0233445503,-0.0862011015,0.0504301898,0.0142595991,0.0361095928,-0.048030626,0.0231579896,-0.0242878813,0.0569331124,-0.0018666409,0.062335778,0.0045805112,-0.0215127021,0.0556467846,-0.054948315,0.0212183651,0.0272755492,0.02249326,-0.0125142848,0.0124702854,0.0781126693,-0.0250863209,0.0074372711,0.0426107235,0.0315511376,0.0192669351,0.1085633263,-0.0273257159,-0.0359397456,-0.0182518438,-0.0252907667,0.0485076234,-0.0298972353,-0.0189151149,0.0119438386,0.0595987849,0.0703783408,0.0044119605,-0.0025439076,-0.0216956325,0.0028866276,0.0138052208,0.0669561848,0.0601946935,0.0313816555,0.0424090475,0.0206564106,0.0151118366,0.0418903716,-0.0314430706,-0.0098058656,-0.0420629978,-0.0737909898,-0.0331855193,0.0256932862,-0.048492033,0.0402927473,0.0125413509,-0.0108706383,0.0520208515,-0.0864044949,-0.0292410161,-0.0297765881,0.0118795959,-0.0318117812,0.0418507457,-0.0267349016,-0.0295948125,-0.0137096224,0.037909586,-0.0023129999,0.0303903241,-0.0002915395,-0.0032184182,-0.0210715625,0.0449580215,0.0085403565,-0.0083569726,0.0319914632,-0.0042769923,-0.0467817113,-0.0652664453,0.0237425771,-0.0020479362,0.0006181882,0.027871361,0.029703781,0.0132528646,-0.0329740532,0.0070792143,-0.0334520377,0.0657387301,-0.0423112176,-0.0502577722,0.0259552523,-0.0229151621,0.0080176406,0.0313482955,-0.0000742227,0.0385161601,0.0440248698,-0.0008639798,-0.0564386211,0.0050308434,-0.0056061279,-0.0283614583,-0.0306912418,-0.0256361999,0.0428073555,-0.0392135642,-0.0236138832,0.0201054551,-0.0392519608,0.0095858565,0.031744428,-0.0265320856,0.0043974412,0.0403906815,0.0441012941,0.0091952756,-0.0029294842,0.0641032159,-0.0256844014,0.0022424257,-0.0100060422,0.0123744113,0.0112150414,-0.0143375127,0.0241989736,-0.0658488497,0.0551376007,0.0772952288,-0.0045884512,-0.0336260796,0.0210864954,-0.0284041502,-0.0298007932,-0.0236286987,0.0616150461,-0.0332856625,0.0582059771,-0.0283670761,-0.0121903662,0.0448951311,0.0311305132,-0.0202324633,-0.0139125092,-0.0191472024,0.0442712493,0.0337509699,0.054846175,-0.0076941722,-0.0203419309,0.0610319525,0.0391352735,0.0225729458,-0.0530726686,0.0169428121,0.0397583134,-0.0539531894,0.0023069885,0.0283671916,-0.0251008887,0.0123087903,-0.0177922994,-0.0621255748,-0.0602099188,0.0253703352,0.0272823982,-0.0259459838,0.016122371,-0.0247805025,-0.0372719653,0.0342659429,-0.0404386446,-0.0211251508,0.0625387579,0.0655224472,-0.0288404524,-0.1051532254,-0.028944293,-0.0356716588,-0.0157136042,0.0415596366,-0.0064233122,-0.0597762205,0.0325126424,0.0255609751,-0.0551516674,-0.013846091,0.0189766791,-0.0038019607,-0.0123444851,-0.0331412852,0.0090820156,0.0024637773,-0.0505499765,-0.0016434389,-0.0480524339,0.065142706,0.0635161921,0.0565359332,-0.0372465998,-0.0040363013,0.0144377258,-0.0319834426,0.0178018622,-0.0278710257,-0.0457077883,0.0151067469,-0.0334031694,0.0109080933,0.0212516394,-0.059832003,0.0002674608,0.020470703,0.1059793532,-0.0246058851,0.0285184681,0.0294343196,0.0004425446,0.0248659234,-0.0342403203,-0.0483109057,0.0187756196,-0.0898674503,0.0566768982,-0.0347016118,-0.031359531,0.0265814625,0.0259283595,-0.0108575262,0.0178800505,-0.0391115807,0.0448178463,-0.0600100532,-0.0441423282,0.0382359028,-0.0013338687,0.0325639658,0.0178811196,0.024279559,0.0007810757,-0.0347989015,-0.0173290595,0.0107864887,0.0311306939,0.0361195803,-0.0136685008,0.0003009197,-0.044256974,-0.0048910324,-0.0053111771,0.0222415123,-0.0028908532,0.0399383195,-0.0546234287,0.0099140136,-0.0227684882,0.0046070125,0.016560642,0.0256479196,0.0013721348,0.0745609999,-0.0100850351,0.0266126581,-0.0050127101,0.0042276084,0.0278853904,-0.0248572305,0.0115274033,-0.0521423519,-0.0278230328,0.0218970962,-0.0203827731,-0.0424970798,-0.0724233612,-0.0164079312,-0.091857627,-0.0347718559,-0.0076013445,0.007388582,-0.0360995978,0.0202034619,-0.0774548128,-0.0003227216,-0.0111651216,0.0829251856,0.0206289552,0.0166655965,-0.0150398482,0.0192134585,-0.0008736323,-0.0267762877,0.0350331962,-0.0000575597,-0.005546724,-0.027625097,-0.0321104415,0.0214207359,0.0309371836,0.0358380042,0.0554920845,-0.0340426713,-0.0149723217,-0.0228919256,0.0449426658,0.0232020412,-0.0008847925,-0.026400974,0.0279778801,0.0180865321,0.011271731,0.0204522032,0.0009682564,-0.0303482898,0.0855674222,0.0057341568,0.0030639581,-0.0077314624,-0.0060013942,-0.0211880673,-0.0040377094,-0.01949865,0.0261262562,0.0034846966,0.026942553,0.0112829255,-0.0234402101,0.075976111,0.0422625989,0.0427439809,0.0550584495,0.0117077986,-0.0400540978,-0.0146760391,-0.0332740471,-0.0138842631,0.0365641415,-0.047072392,0.0167628732,0.0122329993,-0.0079049869,0.0180978496,0.0525903702,-0.0177049059,0.0134788314,0.0038418015,0.0052675521,-0.0097559001,-0.0351217389,0.0366594456,-0.0336473435,0.0223818384,-0.0135772051,0.0486936122,-0.0042696781,-0.032196831,-0.0596311241,-0.0039838972,-0.0462104827,-0.0161295384,-0.0096688457,-0.0002268432,-0.0140431281,0.0538688228,-0.0226612426,0.0046305512,-0.0030330976,0.0551995449,0.0221890733,0.0110428054,0.0331130661,0.0078800712,-0.0116150379,0.0322566107,-0.0205186997,-0.013961466,-0.000528872,0.0179106444,0.0569568388,-0.0065900204,0.0191416368,0.0302846525,0.0280296616,0.0037355926,-0.0246952027,0.0010728615,-0.0410342291,-0.029666489,0.0166459251,0.0014735574,-0.0001108576,0.0132191414,-0.0259669982,-0.0311722551,-0.0192621686,0.0186556764,-0.0848090351,-0.0291975401,-0.0510490015,0.0520507544,0.0200161282,0.0344443247,-0.0073623424,0.0193186365,0.0217668191,-0.0385124981,-0.0252085049,-0.0569910593,-0.0556753352,-0.0297849849,0.008513934,-0.0224311799,-0.0344097726,-0.008805369,-0.0805101022,0.0136105856,-0.0474453904,-0.0560403951,0.0025817829,-0.0321781337,0.0267025884,0.049899403,0.0547959656,0.0549860522,0.0460435785,-0.0760857016,0.0743391141,-0.0121846236,-0.0111587718,0.016521534,0.0075284489,-0.0133090876,-0.0199132413,0.0332627073,-0.0522748679,0.027444046,0.0161487497,0.0463654324,0.0655850992,0.0355471112,0.0052806051,-0.0578836538,0.0569185615,-0.0347308591,0.0291417036,0.0332627147,-0.0299191866,0.0504197739,-0.0410888903,-0.0251852181,-0.0457575135,-0.0485403128,0.0137251951,-0.0570029318,0.0130111603,-0.0009140868,-0.0514788963,-0.0025777901,0.0392050967,-0.0026720716,-0.014820545,-0.0036656267,0.0521579646,0.0020515367,0.0351550207,0.0706809834,-0.0142968725,-0.0357718542,0.0232990403,0.0082169576,-0.0129706962,-0.0231661964,-0.0042404924,0.0346070677,-0.007926533,-0.0391362719,0.0225890763,-0.0561151318,-0.019382732,0.002927386,0.040402513,-0.0713771209,0.0466216989,-0.0187182557,-0.0149058476,-0.0131804096,-0.0208074767,-0.0106316814,-0.0893385932,-0.0047765011,-0.0000447644,0.0087651992,-0.0132315243,0.0781284347,-0.0197653454,0.0459129736,0.0107791424,0.009217469,0.0239523929,0.0181619786,-0.0447439849,-0.0273482352,0.0497995168,0.0041743726,0.0114123514,0.0362283885,0.0020238059,0.0394022688,-0.0524120331,0.0082144924,-0.040068537,-0.0594743304,0.030117413,-0.0041063642,0.0096952245,-0.0401527956,0.0414631665,-0.0133615583,0.0066135707,-0.0399914086,0.0485814214,-0.0338869095,-0.0512264408,-0.069653213,0.0073979022,0.0205184985,-0.0517480597,-0.0018519313,-0.0254936665]}\n",
      "{\"id\":73501178,\"embedding\":[0.0219804998,0.0180693772,0.0546779744,0.0587021448,0.0669848919,0.0032114079,0.0021281734,-0.0035034828,0.0039568632,-0.0236692019,0.0279103946,-0.0124457497,0.0417345688,-0.0003539759,0.0012274794,-0.0144017832,-0.0038858538,-0.0273850448,0.0205275007,0.0037845711,-0.0527760349,0.0104779908,-0.0361829624,0.0072499844,-0.0320735835,-0.0736840218,-0.0179330464,0.023146309,-0.0224275589,-0.0351157486,-0.0264429711,-0.0012281243,-0.0759213865,-0.0355066694,-0.0099119516,0.0025758329,0.0167247932,0.0133135198,-0.009983303,-0.0183805358,-0.0289575681,-0.0141751738,0.0628565624,-0.0305673312,-0.000831938,-0.0262887329,-0.0256992858,0.0172760263,-0.0023482193,-0.0387378894,-0.0314917006,-0.0414823033,-0.0041087628,0.0135309752,0.0092151687,0.0297570992,-0.0527380556,-0.0222025551,0.0292229485,0.0033534656,0.035670612,0.0170024633,-0.0317035355,-0.0038729375,-0.0450989939,0.0464005023,0.0033292559,-0.0316572711,-0.0308232084,-0.0041005719,-0.0024848764,0.0128413877,-0.0135040069,-0.0192211419,0.0352140777,-0.0462142192,0.0230517704,0.0257907696,0.0363775156,-0.0585828684,0.0151081551,-0.0223042425,-0.007833465,-0.0880600736,-0.0456415974,0.0826200917,-0.0074340408,-0.031852223,-0.0532236174,0.0163865685,-0.0144889047,0.0063219941,-0.0182504449,0.0264274087,-0.0286018383,-0.0028506506,-0.0307478923,-0.0471179672,0.0089327749,-0.0095670708,0.0089236591,-0.0058212676,0.0110140415,0.0149266543,0.025969252,-0.0086356811,-0.0522057712,0.0135516841,-0.0259251054,-0.1007601544,-0.0214005839,0.0542264916,-0.0598890819,0.0132651357,-0.0367852077,-0.0685428083,0.0288804695,-0.0174952503,0.0211865231,0.0340180807,-0.0460502133,0.0139338579,0.030948868,0.0357429422,0.0073896013,0.0315868855,0.0607280806,-0.0413411818,-0.0030335581,0.0151381772,0.0924506858,0.0178420022,0.0273625925,-0.0255475584,-0.0080981087,0.0380930491,0.0096803531,0.0299879573,-0.0215543397,0.0158251598,-0.0287668612,-0.0358011648,-0.0365216881,0.0165989101,0.0243596509,-0.04403162,0.0164364353,-0.0523045771,-0.0162483584,0.0429441333,0.0448133349,0.0334292166,0.0079995701,0.0314298682,0.0484623164,0.0484187491,0.0660685897,0.0439861491,-0.0618611835,-0.0329149254,0.0581857674,-0.032871794,0.0059952205,-0.0157236215,0.0302199498,0.0067612608,-0.001710809,0.0061116945,-0.001276075,0.007455009,-0.0325991251,-0.1071281135,0.0155128483,-0.0244744942,0.05059807,0.0176635813,0.0225993861,0.0431062989,-0.0121037988,0.0418574885,-0.0410102941,-0.0743117258,0.0300271399,-0.0000032395,-0.0881587192,0.0105337854,0.0225506574,-0.0064760875,0.0031855851,0.0216343887,-0.0414889827,-0.0149123864,0.0642401204,-0.0583409332,0.0053929123,-0.0038454686,0.0235001948,-0.1656447947,-0.0607631914,0.0379653834,0.0089762267,-0.0136976978,0.0499825813,0.0039407825,-0.0334026217,0.04854526,-0.0284439158,0.0941990614,-0.0293175559,0.0035789283,0.0710854679,-0.0126105454,0.0241034403,-0.0624376088,-0.0214295276,0.0016693671,0.0541679747,0.0029493149,-0.0354209095,0.0311854873,-0.0365459919,-0.0180008989,0.0218967889,-0.0100519508,-0.0192506388,0.0197912175,-0.0008161445,0.0285827387,0.0051857871,0.0274965949,-0.0036309201,0.0105198193,-0.0174535401,-0.0231624953,-0.0861139819,0.0371920541,0.0327096283,0.040684361,-0.1096708104,0.0200936161,-0.0173069499,0.0655043647,-0.0158258192,0.0097647021,0.0018576576,0.0219767932,-0.0206077751,0.0190402754,0.0027551127,-0.0270667579,0.0202543363,-0.0547475256,-0.0606682338,-0.0233850237,-0.0120979212,0.0279753339,-0.0166538469,0.0802435353,0.0273374766,-0.0147781232,-0.0082262149,0.0195906125,0.0530801155,0.1170427725,-0.0309549831,-0.0455163158,-0.0673482046,0.0260238461,0.0425318852,-0.0239183605,-0.022769019,-0.0276912656,0.0244929381,0.0448379517,-0.0630181655,0.0171060022,0.0079484442,0.0549784303,-0.0034592734,0.0462699346,0.0166211687,-0.0053230133,0.0213411879,-0.0167606417,-0.0378606096,0.0168667659,0.0344941244,0.0206805039,-0.1265064776,-0.0598346218,0.0074416124,-0.0218481328,0.0254249442,0.0512193553,-0.021717459,-0.0433023758,0.0330208279,-0.0281826071,-0.0202951338,0.0573088862,-0.0561496243,-0.0081492467,0.0299387854,0.0066051232,0.0053310809,0.0076245344,-0.0114013059,0.0546292141,0.000372219,-0.012674287,0.0290238485,-0.0476733521,-0.0104834205,0.0230703447,-0.0272052512,0.0096634571,0.0188255906,-0.0066000479,-0.0432864949,0.0450004898,0.0095700417,0.0010894528,0.0574383102,0.0158279818,0.0080126794,-0.0642526895,0.0041375593,-0.044868581,0.0788026154,-0.0188592821,0.0044099921,0.0057812361,-0.0520824827,0.0425780974,-0.0378401913,0.0232410189,0.0086596981,0.0471610874,0.0015200636,-0.0183015652,0.0369331799,-0.0136091458,-0.0236307662,-0.0197958387,0.0203697719,-0.0129360845,-0.0238742512,0.0162361898,-0.0365281813,-0.0472152904,-0.0161530767,0.0261566322,-0.0047079218,0.0052308468,0.0479525179,0.0455909669,-0.013237955,-0.0225721635,0.032615006,0.0044581955,-0.0368077494,0.0133266291,-0.0115854936,0.0088058477,-0.0063214623,0.0515889041,-0.0229658186,0.0296533778,0.037794292,-0.0056771985,-0.0028753148,-0.009436381,-0.010423908,-0.0257399213,-0.0628339797,0.0266404338,-0.0448339358,0.0152824679,0.0162638556,0.0224931221,0.0219601151,0.0318202861,0.0074219154,0.0062807868,0.0037014303,-0.0199203212,0.0426088162,0.0382699892,-0.0104491431,0.0090550352,0.0245792568,0.0455615446,0.04760544,0.0012102873,0.0289682783,0.0188133959,-0.0191908237,-0.0101327356,-0.0273671988,-0.0155150974,-0.0240622293,0.0100593129,-0.0612768047,-0.0535040684,0.0149979703,0.0315761007,0.0256550983,0.00111931,-0.016496554,-0.0146846315,0.0531688035,-0.0097144814,-0.0054628025,0.0241657645,0.0555422716,-0.0209700391,-0.0650651455,-0.0344705135,-0.0280943643,-0.0097107561,0.0138710216,0.0445291065,-0.0971726179,0.0199168585,0.0057240864,0.0010696143,-0.0117693981,0.0035308038,-0.0291008819,0.0057732589,-0.0258882027,-0.027020609,0.0278292559,-0.0770853758,-0.0306232907,-0.0432032719,0.0949700549,0.0431052409,0.0402912907,-0.0172413513,-0.0287192985,0.0361764356,-0.0087537477,0.0551065058,-0.0076303044,0.0129433842,-0.0041644815,-0.0201665424,-0.000227228,-0.0764355883,-0.0281079337,-0.0126380911,0.0191180781,0.0709226355,-0.0132239889,-0.0314522758,0.0070566926,-0.0346703231,-0.0289130807,0.0184481088,-0.0074931318,0.0107411211,-0.0556434989,0.0845824927,0.0224946719,-0.0061466028,-0.0056636618,0.0142035726,0.0074339043,0.0299934503,-0.0636144355,-0.0254855826,-0.0098995268,0.0003802403,0.0589155219,-0.0453877077,0.0310221668,0.0573055409,-0.0279342644,-0.0056791673,-0.0528545342,-0.0322739296,0.0119005973,0.001002554,0.0061481921,0.0270843673,0.0016155761,-0.0303820092,-0.0198297966,0.0408984013,-0.0023987407,-0.0184239447,0.0155822253,-0.0249271896,0.0014424955,-0.0205721203,-0.0088676428,-0.0074080559,0.0309570786,0.02266936,0.0213693231,0.0192564931,-0.0015580774,-0.0378944017,0.0073153819,-0.0523008071,0.0161122493,0.0009996112,-0.0793368146,0.0325106867,-0.0133342203,-0.0504509471,-0.0186961573,-0.0284879487,-0.0191241279,-0.0079642739,0.0073037217,0.0734029859,0.0733759478,0.030599663,-0.0342412442,0.0079086563,-0.0280572195,0.0450990871,0.007803434,0.0503952056,-0.0540552624,-0.0013696625,-0.0433554128,-0.0025400191,-0.007235623,0.0655774623,-0.0083284201,-0.013345588,0.0075278012,-0.0420557521,0.0226074159,-0.0037606675,0.0691946223,0.1431692988,0.0085481061,-0.0884971619,0.0385559686,0.0091564795,-0.0331807584,0.0318389088,0.0170708504,0.0445340089,0.0181992128,0.031058114,0.0493430644,-0.0398044959,-0.0193013586,0.038802579,0.0282525551,-0.0011340741,-0.0108336126,-0.0061944779,-0.058009278,0.0024427432,-0.0246301461,0.0365673602,0.0290264655,-0.0459971912,0.0421397276,-0.0539279357,0.0794824287,-0.0013777459,0.0472797044,0.079497993,-0.0332224369,-0.0504499152,-0.0334354043,-0.0311106108,0.0115794726,0.0021173232,-0.0471478514,0.0214596502,0.0508270636,0.0104291746,-0.0040907008,0.0024281864,0.0151420943,0.0418763347,0.0185616296,-0.0025117213,-0.0177165214,-0.0600532927,-0.0210904814,-0.0198893193,-0.0041494914,-0.0973580331,0.0089880181,0.0002666423,-0.0652881637,-0.0539566688,-0.0290680174,-0.004846558,-0.0178539362,0.01696226,0.0072290427,-0.0021827507,0.0079247905,-0.0114318514,-0.0398126207,0.0096827541,0.0160562154,0.0452429354,0.0321725011,0.0191190131,0.0553807169,0.0577560775,-0.0055797263,0.0183026996,-0.0530045703,-0.0197637491,-0.0094238492,0.0143092684,0.001633249,-0.0070947348,0.0437792875,-0.0141579825,-0.0433310457,-0.041750297,0.025455758,0.0772965848,0.0015994317,-0.025431335,-0.0480003282,-0.04659364,-0.0150543787,-0.043294616,-0.052350793,-0.059609279,0.0091864495,-0.053467311,0.0025898374,0.0327028222,0.0397377573,0.0670370236,0.0497998782,0.024328528,0.0086863823,-0.0014167343,-0.0273467824,-0.0318703949,-0.0328048877,-0.0880582482,-0.0182789713,0.0505585112,0.0208771247,-0.0113926558,0.0066353702,-0.0609779581,0.0280940365,-0.0210449938,0.0108169466,0.046250198,0.0071017151,0.0322248079,0.0412521474,0.0624314994,-0.0120588169,0.005737389,-0.0432644598,0.0845066458,0.0039990465,0.0041225813,0.0054656263,-0.0448732786,-0.0211852789,-0.0203578174,0.0069803405,-0.0272228122,0.0280049779,-0.042610839,0.040714927,0.008597468,0.0154285636,0.0095326584,-0.0776809379,0.0225681216,-0.0148215238,-0.0114028379,0.0397777781,-0.0256234575,0.0086294999,-0.0551687963,-0.0108725997,-0.0267997216,-0.0481637754,0.0243162978,-0.0245798603,-0.0226981398,0.0274671763,-0.0090223569,-0.0120351817,0.003760987,0.0489063673,0.0009154234,0.0210866034,0.0612588227,0.0579224266,0.0231345035,0.0803050101,-0.0039453106,-0.0130705088,-0.0358686708,0.0354658216,-0.0098133339,-0.0023170353,-0.0645378157,0.0492181405,-0.0310804117,-0.0229904819,0.0296167508,-0.0637593046,0.0049215727,0.0363056399,0.0216881223,-0.0321105756,0.0236530453,0.05054738,-0.0187379718,-0.0144960796,-0.0405761972,0.0230134223,-0.0028906655,0.0501391105,-0.0322429724,-0.0209362321,-0.0405267291,-0.0127576441,0.0573215447,0.0425951667,0.0023468346,0.0203602333,0.0066332542,0.0519756041,0.0006869802,0.0087137967,0.0694395304,-0.0282850917,-0.0043642009,0.0287900809,0.0518497638,-0.0116973938,-0.0346351154,0.0056278366,-0.0618498512,-0.0409064144,-0.0034409047,-0.0087280264,0.0200431328,0.0220058337,-0.0041812058,0.0139765916,0.0364356302,0.0253535062,0.0418813378,0.0143130319,-0.025384251,-0.0391880237,0.0057518128,0.0050140908,-0.0257915724,-0.0243685674,-0.0219911803]}\n"
     ]
    }
   ],
   "source": [
    "# save id and embedding as a json file\n",
    "jsonl_string = df[[\"id\", \"embedding\"]].to_json(orient=\"records\", lines=True)\n",
    "with open(\"questions.json\", \"w\") as f:\n",
    "    f.write(jsonl_string)\n",
    "\n",
    "# show the first few lines of the json file\n",
    "! head -n 3 questions.json"
   ]
  },
  {
   "cell_type": "markdown",
   "metadata": {
    "id": "-WTNJ3FAQl_W"
   },
   "source": [
    "Then, create a new Cloud Storage bucket and copy the file to it."
   ]
  },
  {
   "cell_type": "code",
   "execution_count": 12,
   "metadata": {
    "id": "CzwDWJfzAk3n",
    "tags": []
   },
   "outputs": [
    {
     "name": "stdout",
     "output_type": "stream",
     "text": [
      "Creating gs://qwiklabs-gcp-00-7bb304c9b6fc-embvs-tutorial-09210710/...\n",
      "Copying file://questions.json [Content-Type=application/json]...\n",
      "/ [1 files][  9.8 MiB/  9.8 MiB]                                                \n",
      "Operation completed over 1 objects/9.8 MiB.                                      \n"
     ]
    }
   ],
   "source": [
    "BUCKET_URI = f\"gs://{PROJECT_ID}-embvs-tutorial-{UID}\"\n",
    "! gsutil mb -l $LOCATION -p {PROJECT_ID} {BUCKET_URI}\n",
    "! gsutil cp questions.json {BUCKET_URI}"
   ]
  },
  {
   "cell_type": "markdown",
   "metadata": {
    "id": "xxdbjKw1XDxl"
   },
   "source": [
    "### Create an Index\n",
    "\n",
    "Now it's ready to load the embeddings to Vector Search. Its APIs are available under the [aiplatform](https://cloud.google.com/python/docs/reference/aiplatform/latest/google.cloud.aiplatform) package of the SDK."
   ]
  },
  {
   "cell_type": "code",
   "execution_count": 14,
   "metadata": {
    "id": "8unyr9KagAoI",
    "tags": []
   },
   "outputs": [],
   "source": [
    "# init the aiplatform package\n",
    "from google.cloud import aiplatform\n",
    "\n",
    "aiplatform.init(project=PROJECT_ID, location=LOCATION)"
   ]
  },
  {
   "cell_type": "markdown",
   "metadata": {
    "id": "xpMUXqWQ75uu"
   },
   "source": [
    "Create an [MatchingEngineIndex](https://cloud.google.com/python/docs/reference/aiplatform/latest/google.cloud.aiplatform.MatchingEngineIndex) with its `create_tree_ah_index` function (Matching Engine is the previous name of Vector Search)."
   ]
  },
  {
   "cell_type": "code",
   "execution_count": 15,
   "metadata": {
    "id": "kKDw5VXMkXb3",
    "tags": []
   },
   "outputs": [
    {
     "name": "stdout",
     "output_type": "stream",
     "text": [
      "Creating MatchingEngineIndex\n",
      "Create MatchingEngineIndex backing LRO: projects/466698658479/locations/us-central1/indexes/2714170841444122624/operations/4038245796364156928\n",
      "MatchingEngineIndex created. Resource name: projects/466698658479/locations/us-central1/indexes/2714170841444122624\n",
      "To use this MatchingEngineIndex in another session:\n",
      "index = aiplatform.MatchingEngineIndex('projects/466698658479/locations/us-central1/indexes/2714170841444122624')\n"
     ]
    }
   ],
   "source": [
    "# create index\n",
    "my_index = aiplatform.MatchingEngineIndex.create_tree_ah_index(\n",
    "    display_name=f\"embvs-tutorial-index-{UID}\",\n",
    "    contents_delta_uri=BUCKET_URI,\n",
    "    dimensions=768,\n",
    "    approximate_neighbors_count=20,\n",
    "    distance_measure_type=\"DOT_PRODUCT_DISTANCE\",\n",
    ")"
   ]
  },
  {
   "cell_type": "markdown",
   "metadata": {
    "id": "2rFam_w9U0dI"
   },
   "source": [
    "By calling the `create_tree_ah_index` function, it starts building an Index. This will take under a few minutes if the dataset is small, otherwise about 50 minutes or more depending on the size of the dataset. You can check status of the index creation on [the Vector Search Console > INDEXES tab](https://console.cloud.google.com/vertex-ai/matching-engine/indexes).\n",
    "\n",
    "![](https://storage.googleapis.com/github-repo/img/embeddings/vs-quickstart/creating-index.png)\n",
    "\n",
    "#### The parameters for creating index\n",
    "\n",
    "- `contents_delta_uri`: The URI of Cloud Storage directory where you stored the embedding JSON files\n",
    "- `dimensions`: Dimension size of each embedding. In this case, it is 768 as we are using the embeddings from the Text Embeddings API.\n",
    "- `approximate_neighbors_count`: how many similar items we want to retrieve in typical cases\n",
    "- `distance_measure_type`: what metrics to measure distance/similarity between embeddings. In this case it's `DOT_PRODUCT_DISTANCE`\n",
    "\n",
    "See [the document](https://cloud.google.com/vertex-ai/docs/vector-search/create-manage-index) for more details on creating Index and the parameters.\n",
    "\n",
    "#### Batch Update or Streaming Update?\n",
    "There are two types of index: Index for *Batch Update* (used in this tutorial) and Index for *Streaming Updates*. The Batch Update index can be updated with a batch process whereas the Streaming Update index can be updated in real-time. The latter one is more suited for use cases where you want to add or update each embeddings in the index more often, and crucial to serve with the latest embeddings, such as e-commerce product search.\n"
   ]
  },
  {
   "cell_type": "markdown",
   "metadata": {
    "id": "VLOAMF50XMI8"
   },
   "source": [
    "### Create Index Endpoint and deploy the Index\n",
    "\n",
    "To use the Index, you need to create an [Index Endpoint](https://cloud.google.com/vertex-ai/docs/vector-search/deploy-index-public). It works as a server instance accepting query requests for your Index."
   ]
  },
  {
   "cell_type": "code",
   "execution_count": 16,
   "metadata": {
    "id": "h6IzyufWCjU1",
    "tags": []
   },
   "outputs": [
    {
     "name": "stdout",
     "output_type": "stream",
     "text": [
      "Creating MatchingEngineIndexEndpoint\n",
      "Create MatchingEngineIndexEndpoint backing LRO: projects/466698658479/locations/us-central1/indexEndpoints/4243002177448050688/operations/8640924615536803840\n",
      "MatchingEngineIndexEndpoint created. Resource name: projects/466698658479/locations/us-central1/indexEndpoints/4243002177448050688\n",
      "To use this MatchingEngineIndexEndpoint in another session:\n",
      "index_endpoint = aiplatform.MatchingEngineIndexEndpoint('projects/466698658479/locations/us-central1/indexEndpoints/4243002177448050688')\n"
     ]
    }
   ],
   "source": [
    "# create IndexEndpoint\n",
    "my_index_endpoint = aiplatform.MatchingEngineIndexEndpoint.create(\n",
    "    display_name=f\"embvs-tutorial-index-endpoint-{UID}\",\n",
    "    public_endpoint_enabled=True,\n",
    ")"
   ]
  },
  {
   "cell_type": "markdown",
   "metadata": {
    "id": "11e3e1a3a9e9"
   },
   "source": [
    "This tutorial utilizes a [Public Endpoint](https://cloud.google.com/vertex-ai/docs/vector-search/setup/setup#choose-endpoint) and does not support [Virtual Private Cloud (VPC)](https://cloud.google.com/vpc/docs/private-services-access). Unless you have a specific requirement for VPC, we recommend using a Public Endpoint. Despite the term \"public\" in its name, it does not imply open access to the public internet. Rather, it functions like other endpoints in Vertex AI services, which are secured by default through IAM. Without explicit IAM permissions, as we have previously established, no one can access the endpoint."
   ]
  },
  {
   "cell_type": "markdown",
   "metadata": {
    "id": "8n33iO1T5hFO"
   },
   "source": [
    "With the Index Endpoint, deploy the Index by specifying an unique deployed index ID."
   ]
  },
  {
   "cell_type": "code",
   "execution_count": 17,
   "metadata": {
    "id": "FcBHLifGwAWq",
    "tags": []
   },
   "outputs": [],
   "source": [
    "DEPLOYED_INDEX_ID = f\"embvs_tutorial_deployed_{UID}\""
   ]
  },
  {
   "cell_type": "code",
   "execution_count": null,
   "metadata": {
    "id": "1jUoGhY5TPFP",
    "tags": []
   },
   "outputs": [
    {
     "name": "stdout",
     "output_type": "stream",
     "text": [
      "Deploying index MatchingEngineIndexEndpoint index_endpoint: projects/466698658479/locations/us-central1/indexEndpoints/4243002177448050688\n",
      "Deploy index MatchingEngineIndexEndpoint index_endpoint backing LRO: projects/466698658479/locations/us-central1/indexEndpoints/4243002177448050688/operations/3938040704655163392\n"
     ]
    }
   ],
   "source": [
    "# deploy the Index to the Index Endpoint\n",
    "my_index_endpoint.deploy_index(index=my_index, deployed_index_id=DEPLOYED_INDEX_ID)"
   ]
  },
  {
   "cell_type": "markdown",
   "metadata": {
    "id": "xu9ZmWcpXQ55"
   },
   "source": [
    "If it is the first time to deploy an Index to an Index Endpoint, it will take around 25 minutes to automatically build and initiate the backend for it. After the first deployment, it will finish in seconds. To see the status of the index deployment, open [the Vector Search Console > INDEX ENDPOINTS tab](https://console.cloud.google.com/vertex-ai/matching-engine/index-endpoints) and click the Index Endpoint.\n",
    "\n",
    "<img src=\"https://storage.googleapis.com/github-repo/img/embeddings/vs-quickstart/deploying-index.png\" width=\"70%\">"
   ]
  },
  {
   "cell_type": "markdown",
   "metadata": {
    "id": "oTi4PjjbXV-O"
   },
   "source": [
    "### Run Query\n",
    "\n",
    "Finally it's ready to use Vector Search. In the following code, it creates an embedding for a test question, and find similar question with the Vector Search."
   ]
  },
  {
   "cell_type": "code",
   "execution_count": null,
   "metadata": {
    "id": "FhNuRQqUWdfe",
    "tags": []
   },
   "outputs": [],
   "source": [
    "test_embeddings = get_embeddings_wrapper([\"How to read JSON with Python?\"])"
   ]
  },
  {
   "cell_type": "code",
   "execution_count": null,
   "metadata": {
    "id": "Q01DGMBPXAg-",
    "tags": []
   },
   "outputs": [],
   "source": [
    "# Test query\n",
    "response = my_index_endpoint.find_neighbors(\n",
    "    deployed_index_id=DEPLOYED_INDEX_ID,\n",
    "    queries=test_embeddings,\n",
    "    num_neighbors=20,\n",
    ")\n",
    "\n",
    "# show the result\n",
    "import numpy as np\n",
    "\n",
    "for idx, neighbor in enumerate(response[0]):\n",
    "    id = np.int64(neighbor.id)\n",
    "    similar = df.query(\"id == @id\", engine=\"python\")\n",
    "    print(f\"{neighbor.distance:.4f} {similar.title.values[0]}\")"
   ]
  },
  {
   "cell_type": "markdown",
   "metadata": {
    "id": "tPDOL9caoYZ9"
   },
   "source": [
    "The `find_neighbors` function only takes milliseconds to fetch the similar items even when you have billions of items on the Index, thanks to the ScaNN algorithm. Vector Search also supports [autoscaling](https://cloud.google.com/vertex-ai/docs/vector-search/deploy-index-public#autoscaling) which can automatically resize the number of nodes based on the demands of your workloads."
   ]
  },
  {
   "cell_type": "markdown",
   "metadata": {
    "id": "DDt4D6FDyc66"
   },
   "source": [
    "# IMPORTANT: Cleaning Up\n",
    "\n",
    "In case you are using your own Cloud project, not a temporary project on Qwiklab, please make sure to delete all the Indexes, Index Endpoints and Cloud Storage buckets after finishing this tutorial. Otherwise the remaining objects would **incur unexpected costs**.\n",
    "\n",
    "If you used Workbench, you may also need to delete the Notebooks from [the console](https://console.cloud.google.com/vertex-ai/workbench)."
   ]
  },
  {
   "cell_type": "code",
   "execution_count": null,
   "metadata": {
    "id": "MEsKVzguyxNx",
    "tags": []
   },
   "outputs": [],
   "source": [
    "# wait for a confirmation\n",
    "input(\"Press Enter to delete Index Endpoint, Index and Cloud Storage bucket:\")\n",
    "\n",
    "# delete Index Endpoint\n",
    "my_index_endpoint.undeploy_all()\n",
    "my_index_endpoint.delete(force=True)\n",
    "\n",
    "# delete Index\n",
    "my_index.delete()\n",
    "\n",
    "# delete Cloud Storage bucket\n",
    "! gsutil rm -r {BUCKET_URI}"
   ]
  },
  {
   "cell_type": "markdown",
   "metadata": {
    "id": "b8k26QOF3Ys7"
   },
   "source": [
    "# Summary\n",
    "\n",
    "## Grounding LLM outputs with Vertex AI Vector Search\n",
    "\n",
    "As we have seen, by combining the Embeddings API and Vector Search, you can use the embeddings to \"ground\" LLM outputs to real business data with low latency.\n",
    "\n",
    "For example, if an user asks a question, Embeddings API can convert it to an embedding, and issue a query on Vector Search to find similar embeddings in its index. Those embeddings represent the actual business data in the databases. As we are just retrieving the business data and not generating any artificial texts, there is no risk of having hallucinations in the result.\n",
    "\n",
    "![](https://storage.googleapis.com/gweb-cloudblog-publish/original_images/10._grounding.png)\n",
    "\n",
    "### The difference between the questions and answers\n",
    "\n",
    "In this tutorial, we have used the Stack Overflow dataset. There is a reason why we had to use it; As the dataset has many pairs of **questions and answers**, so you can just find questions similar to your question to find answers to it.\n",
    "\n",
    "In many business use cases, the semantics (meaning) of questions and answers are different. Also, there could be cases where you would want to add variety of recommended or personalized items to the results, like product search on e-commerce sites.\n",
    "\n",
    "In these cases, the simple semantics search don't work well. It's more like a recommendation system problem where you may want to train a model (e.g. Two-Tower model) to learn the relationship between the question embedding space and answer embedding space. Also, many production systems adds reranking phase after the semantic search to achieve higher search quality. Please see [Scaling deep retrieval with TensorFlow Recommenders and Vertex AI Matching Engine](https://cloud.google.com/blog/products/ai-machine-learning/scaling-deep-retrieval-tensorflow-two-towers-architecture) to learn more.\n",
    "\n",
    "### Hybrid of semantic + keyword search\n",
    "\n",
    "Another typical challenge you will face in production system is to support keyword search combined with the semantic search. For example, for e-commerce product search, you may want to let users find product by entering its product name or model number. As LLM doesn't memorize those product names or model numbers, semantic search can't handle those \"usual\" search functionalities.\n",
    "\n",
    "[Vertex AI Search](https://cloud.google.com/blog/products/ai-machine-learning/vertex-ai-search-and-conversation-is-now-generally-available) is another product you may consider for those requirements. While Vector Search provides a simple semantic search capability only, Search provides a integrated search solution that combines semantic search, keyword search, reranking and filtering, available as an out-of-the-box tool.\n",
    "\n",
    "### What about Retrieval Augmented Generation (RAG)?\n",
    "\n",
    "In this tutorial, we have looked at the simple combination of LLM embeddings and vector search. From this starting point, you may also extend the design to [Retrieval Augmented Generation (RAG)](https://www.google.com/search?q=Retrieval+Augmented+Generation+(RAG)&oq=Retrieval+Augmented+Generation+(RAG)).\n",
    "\n",
    "RAG is a popular architecture pattern of implementing grounding with LLM with text chat UI. The idea is to have the LLM text chat UI as a frontend for the document retrieval with vector search and summarization of the result.\n",
    "\n",
    "![](https://storage.googleapis.com/gweb-cloudblog-publish/images/Figure-7-Ask_Your_Documents_Flow.max-529x434.png)\n",
    "\n",
    "There are some pros and cons between the two solutions.\n",
    "\n",
    "| | Embeddings + vector search | RAG |\n",
    "|---|---|---|\n",
    "| Design | simple | complex |\n",
    "| UI | Text search UI | Text chat UI |\n",
    "| Summarization of result | No | Yes |\n",
    "| Multi-turn (Context aware) | No | Yes |\n",
    "| Latency | millisecs | seconds |\n",
    "| Cost | lower | higher |\n",
    "| Hallucinations | No risk | Some risk |\n",
    "\n",
    "The Embedding + vector search pattern we have looked at with this tutorial provides simple, fast and low cost semantic search functionality with the LLM intelligence. RAG adds context-aware text chat experience and result summarization to it. While RAG provides the more \"Gen AI-ish\" experience, it also adds a risk of hallucination and higher cost and time for the text generation.\n",
    "\n",
    "To learn more about how to build a RAG solution, you may look at [Building Generative AI applications made easy with Vertex AI PaLM API and LangChain](https://cloud.google.com/blog/products/ai-machine-learning/generative-ai-applications-with-vertex-ai-palm-2-models-and-langchain).\n",
    "\n",
    "## Resources\n",
    "\n",
    "To learn more, please check out the following resources:\n",
    "\n",
    "### Documentations\n",
    "\n",
    "[Vertex AI Embeddings for Text API documentation\n",
    "](https://cloud.google.com/vertex-ai/docs/generative-ai/embeddings/get-text-embeddings)\n",
    "\n",
    "[Vector Search documentation](https://cloud.google.com/vertex-ai/docs/matching-engine/overview)\n",
    "\n",
    "### Vector Search blog posts\n",
    "\n",
    "[Vertex Matching Engine: Blazing fast and massively scalable nearest neighbor search](https://cloud.google.com/blog/products/ai-machine-learning/vertex-matching-engine-blazing-fast-and-massively-scalable-nearest-neighbor-search)\n",
    "\n",
    "[Find anything blazingly fast with Google's vector search technology](https://cloud.google.com/blog/topics/developers-practitioners/find-anything-blazingly-fast-googles-vector-search-technology)\n",
    "\n",
    "[Enabling real-time AI with Streaming Ingestion in Vertex AI](https://cloud.google.com/blog/products/ai-machine-learning/real-time-ai-with-google-cloud-vertex-ai)\n",
    "\n",
    "[Mercari leverages Google's vector search technology to create a new marketplace](https://cloud.google.com/blog/topics/developers-practitioners/mercari-leverages-googles-vector-search-technology-create-new-marketplace)\n",
    "\n",
    "[Recommending news articles using Vertex AI Matching Engine](https://cloud.google.com/blog/products/ai-machine-learning/recommending-articles-using-vertex-ai-matching-engine)\n",
    "\n",
    "[What is Multimodal Search: \"LLMs with vision\" change businesses](https://cloud.google.com/blog/products/ai-machine-learning/multimodal-generative-ai-search)"
   ]
  },
  {
   "cell_type": "markdown",
   "metadata": {
    "id": "BE1tELsH-u8N"
   },
   "source": [
    "# Utilities\n",
    "\n",
    "Sometimes it takes tens of minutes to create or deploy Indexes and you would lose connection with the Colab runtime. In that case, instead of creating or deploying new Index again, you can check [the Vector Search Console](https://console.cloud.google.com/vertex-ai/matching-engine/index-endpoints) and get the existing ones to continue."
   ]
  },
  {
   "cell_type": "markdown",
   "metadata": {
    "id": "wF_pkdpJ-yaq"
   },
   "source": [
    "## Get an existing Index\n",
    "\n",
    "To get an Index object that already exists, replace the following `[your-index-id]` with the index ID and run the cell. You can check the ID on [the Vector Search Console > INDEXES tab](https://console.cloud.google.com/vertex-ai/matching-engine/indexes)."
   ]
  },
  {
   "cell_type": "code",
   "execution_count": null,
   "metadata": {
    "id": "mEBkZZt_-0jG",
    "tags": []
   },
   "outputs": [],
   "source": [
    "my_index_id = \"[your-index-id]\"  # @param {type:\"string\"}\n",
    "my_index = aiplatform.MatchingEngineIndex(my_index_id)"
   ]
  },
  {
   "cell_type": "markdown",
   "metadata": {
    "id": "_vlgzkyw-3CI"
   },
   "source": [
    "## Get an existing Index Endpoint\n",
    "\n",
    "To get an Index Endpoint object that already exists, replace the following `[your-index-endpoint-id]` with the Index Endpoint ID and run the cell. You can check the ID on [the Vector Search Console > INDEX ENDPOINTS tab](https://console.cloud.google.com/vertex-ai/matching-engine/index-endpoints)."
   ]
  },
  {
   "cell_type": "code",
   "execution_count": null,
   "metadata": {
    "id": "E0OFnirF-6Rk",
    "tags": []
   },
   "outputs": [],
   "source": [
    "my_index_endpoint_id = \"[your-index-endpoint-id]\"  # @param {type:\"string\"}\n",
    "my_index_endpoint = aiplatform.MatchingEngineIndexEndpoint(my_index_endpoint_id)"
   ]
  },
  {
   "cell_type": "code",
   "execution_count": null,
   "metadata": {},
   "outputs": [],
   "source": []
  }
 ],
 "metadata": {
  "colab": {
   "name": "intro-textemb-vectorsearch.ipynb",
   "toc_visible": true
  },
  "environment": {
   "kernel": "conda-base-py",
   "name": "workbench-notebooks.m124",
   "type": "gcloud",
   "uri": "us-docker.pkg.dev/deeplearning-platform-release/gcr.io/workbench-notebooks:m124"
  },
  "kernelspec": {
   "display_name": "Python 3 (ipykernel) (Local)",
   "language": "python",
   "name": "conda-base-py"
  },
  "language_info": {
   "codemirror_mode": {
    "name": "ipython",
    "version": 3
   },
   "file_extension": ".py",
   "mimetype": "text/x-python",
   "name": "python",
   "nbconvert_exporter": "python",
   "pygments_lexer": "ipython3",
   "version": "3.10.14"
  }
 },
 "nbformat": 4,
 "nbformat_minor": 4
}
